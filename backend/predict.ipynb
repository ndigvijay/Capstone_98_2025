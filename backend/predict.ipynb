{
 "cells": [
  {
   "cell_type": "code",
   "execution_count": 118,
   "metadata": {},
   "outputs": [],
   "source": [
    "import joblib\n",
    "import numpy as np\n"
   ]
  },
  {
   "cell_type": "code",
   "execution_count": 119,
   "metadata": {},
   "outputs": [],
   "source": [
    "import os\n",
    "from pymongo import MongoClient\n",
    "import logging"
   ]
  },
  {
   "cell_type": "code",
   "execution_count": 120,
   "metadata": {},
   "outputs": [],
   "source": [
    "logging.basicConfig(\n",
    "    level=logging.INFO,\n",
    "    format='%(asctime)s %(levelname)s %(name)s %(threadName)s : %(message)s',\n",
    "    handlers=[\n",
    "        logging.FileHandler(\"app.log\"),\n",
    "        logging.StreamHandler()\n",
    "    ]\n",
    ")\n",
    "logger = logging.getLogger(__name__)"
   ]
  },
  {
   "cell_type": "code",
   "execution_count": null,
   "metadata": {},
   "outputs": [],
   "source": [
    "\n",
    "MONGO_URI = \"mongodb://127.0.0.1:27017/\"\n",
    "if not MONGO_URI:\n",
    "    print(\"Please set the MONGO_URI environment variable.\")\n",
    "    MONGO_URI = input(\"Enter your MongoDB URI: \")\n",
    "client = MongoClient(MONGO_URI)\n",
    "db = client['cuckoo']\n",
    "collection = db['test']\n"
   ]
  },
  {
   "cell_type": "code",
   "execution_count": 122,
   "metadata": {},
   "outputs": [],
   "source": [
    "def get_latest_graph_embedding(collection):\n",
    "    \"\"\"\n",
    "    Retrieves the latest document from the specified MongoDB collection\n",
    "    and returns its 'graph_embedding' attribute.\n",
    "\n",
    "    Args:\n",
    "        collection (pymongo.collection.Collection): The MongoDB collection.\n",
    "\n",
    "    Returns:\n",
    "        The 'graph_embedding' attribute if found, else None.\n",
    "    \"\"\"\n",
    "    try:\n",
    "        # Retrieve the latest document by sorting _id in descending order\n",
    "        latest_doc = collection.find_one(sort=[('_id', -1)])\n",
    "\n",
    "        if not latest_doc:\n",
    "            logger.warning(\"No documents found in the collection.\")\n",
    "            return None            \n",
    "        # Access the 'graph_embedding' attribute\n",
    "        graph_embedding = latest_doc.get('graph_embedding')\n",
    "\n",
    "        if graph_embedding is None:\n",
    "            logger.warning(\"'graph_embedding' field not found in the latest document.\")\n",
    "            return None\n",
    "\n",
    "        logger.info(f\"Retrieved 'graph_embedding' from document with _id: {latest_doc.get('_id')}\")\n",
    "        return graph_embedding\n",
    "\n",
    "    except Exception as e:\n",
    "        logger.error(f\"Error retrieving 'graph_embedding': {e}\")\n",
    "        return None\n",
    "\n"
   ]
  },
  {
   "cell_type": "code",
   "execution_count": 127,
   "metadata": {},
   "outputs": [
    {
     "name": "stderr",
     "output_type": "stream",
     "text": [
      "2024-11-01 06:57:05,353 INFO __main__ MainThread : Retrieved 'graph_embedding' from document with _id: 6722d8ee3395166698e074d3\n"
     ]
    }
   ],
   "source": [
    "test_samples=get_latest_graph_embedding(collection=db['malware_analysis'])\n"
   ]
  },
  {
   "cell_type": "code",
   "execution_count": 128,
   "metadata": {},
   "outputs": [
    {
     "data": {
      "text/plain": [
       "(1, 40)"
      ]
     },
     "execution_count": 128,
     "metadata": {},
     "output_type": "execute_result"
    }
   ],
   "source": [
    "test_sample_input=np.array(test_samples,dtype=np.float32).reshape(1,-1)\n",
    "test_sample_input.shape"
   ]
  },
  {
   "cell_type": "code",
   "execution_count": 129,
   "metadata": {},
   "outputs": [],
   "source": [
    "pca=joblib.load('pca_malware_detection.pkl')"
   ]
  },
  {
   "cell_type": "code",
   "execution_count": 133,
   "metadata": {},
   "outputs": [
    {
     "name": "stderr",
     "output_type": "stream",
     "text": [
      "/home/ndv/.local/lib/python3.8/site-packages/sklearn/base.py:465: UserWarning: X does not have valid feature names, but PCA was fitted with feature names\n",
      "  warnings.warn(\n"
     ]
    },
    {
     "data": {
      "text/plain": [
       "(1, 40)"
      ]
     },
     "execution_count": 133,
     "metadata": {},
     "output_type": "execute_result"
    }
   ],
   "source": [
    "# Fit and transform the scaled training features using pca\n",
    "test_sample_input_pca= pca.transform(test_sample_input)\n",
    "test_sample_input_pca.shape"
   ]
  },
  {
   "cell_type": "code",
   "execution_count": 131,
   "metadata": {},
   "outputs": [
    {
     "name": "stdout",
     "output_type": "stream",
     "text": [
      "Classes: ['Adware' 'Backdoor' 'Dropper' 'Phishing' 'Ransomware' 'Trojan' 'Worm']\n",
      "One-hot labels shape: (55, 7)\n"
     ]
    }
   ],
   "source": [
    "import numpy as np\n",
    "import joblib\n",
    "\n",
    "# Load the label encoder and one-hot encoded labels\n",
    "label_encoder = joblib.load('label_encoder.pkl')\n",
    "y_one_hot_loaded = np.load('one_hot_labels.npy')\n",
    "\n",
    "# Example usage: print the classes and shape of one-hot labels\n",
    "print(\"Classes:\", label_encoder.classes_)\n",
    "print(\"One-hot labels shape:\", y_one_hot_loaded.shape)"
   ]
  },
  {
   "cell_type": "code",
   "execution_count": 132,
   "metadata": {},
   "outputs": [
    {
     "name": "stdout",
     "output_type": "stream",
     "text": [
      "1/1 [==============================] - 0s 54ms/step\n",
      "Output values for the new input:\n",
      "Adware: 25.75%\n",
      "Backdoor: 1.78%\n",
      "Dropper: 2.69%\n",
      "Phishing: 77.75%\n",
      "Ransomware: 3.62%\n",
      "Trojan: 98.99%\n",
      "Worm: 11.63%\n"
     ]
    }
   ],
   "source": [
    "model = joblib.load('malware_detection_1.pkl') \n",
    "# Predict the output values for the first row\n",
    "output_values = model.predict(test_sample_input_pca)\n",
    "\n",
    "# # Print the output values for the new input\n",
    "# print(\"Output values for the new input:\")\n",
    "# for label, probability in zip(label_encoder.classes_, output_values[0]):\n",
    "#     print(f\"{label}: {probability * 100:.2f}%\")\n",
    "# Print the output values for the new input\n",
    "print(\"Output values for the new input:\")\n",
    "for label, probability in zip(label_encoder.classes_, output_values[0]):\n",
    "    print(f\"{label}: {probability * 100:.2f}%\")"
   ]
  },
  {
   "cell_type": "code",
   "execution_count": null,
   "metadata": {},
   "outputs": [],
   "source": []
  }
 ],
 "metadata": {
  "kernelspec": {
   "display_name": "Python 3",
   "language": "python",
   "name": "python3"
  },
  "language_info": {
   "codemirror_mode": {
    "name": "ipython",
    "version": 3
   },
   "file_extension": ".py",
   "mimetype": "text/x-python",
   "name": "python",
   "nbconvert_exporter": "python",
   "pygments_lexer": "ipython3",
   "version": "3.8.10"
  }
 },
 "nbformat": 4,
 "nbformat_minor": 2
}
