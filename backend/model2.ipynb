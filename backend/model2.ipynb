{
 "cells": [
  {
   "cell_type": "code",
   "execution_count": 1,
   "metadata": {},
   "outputs": [
    {
     "data": {
      "text/plain": [
       "True"
      ]
     },
     "execution_count": 1,
     "metadata": {},
     "output_type": "execute_result"
    }
   ],
   "source": [
    "# malware_classification.ipynb\n",
    "\n",
    "# Import necessary libraries\n",
    "import os\n",
    "import numpy as np\n",
    "import pandas as pd\n",
    "from pymongo import MongoClient\n",
    "from sklearn.preprocessing import LabelEncoder, StandardScaler\n",
    "from sklearn.model_selection import train_test_split\n",
    "from sklearn.ensemble import RandomForestClassifier\n",
    "from sklearn.metrics import classification_report, confusion_matrix\n",
    "import joblib\n",
    "\n",
    "# If you're using Jupyter, you might need this to display plots inline\n",
    "%matplotlib inline\n",
    "\n",
    "# For plotting (optional)\n",
    "import matplotlib.pyplot as plt\n",
    "import seaborn as sns\n",
    "\n",
    "# Load environment variables (if needed)\n",
    "from dotenv import load_dotenv\n",
    "load_dotenv()\n"
   ]
  },
  {
   "cell_type": "code",
   "execution_count": 2,
   "metadata": {},
   "outputs": [
    {
     "name": "stdout",
     "output_type": "stream",
     "text": [
      "Total samples loaded: 327\n",
      "First few labels after processing:\n",
      "['Cryptocurrency Miner'] <class 'list'>\n",
      "['Trojan'] <class 'list'>\n",
      "['Trojan'] <class 'list'>\n",
      "['Cryptocurrency Miner'] <class 'list'>\n",
      "['Trojan'] <class 'list'>\n",
      "['Trojan'] <class 'list'>\n",
      "['Trojan'] <class 'list'>\n",
      "['Adware'] <class 'list'>\n",
      "['Trojan', 'Backdoor'] <class 'list'>\n",
      "['Trojan'] <class 'list'>\n"
     ]
    }
   ],
   "source": [
    "# Step 1: Connect to MongoDB and Load Data\n",
    "\n",
    "# MongoDB Configuration\n",
    "MONGO_URI = os.getenv('MONGO_URI')\n",
    "if not MONGO_URI:\n",
    "    print(\"Please set the MONGO_URI environment variable.\")\n",
    "    MONGO_URI = input(\"Enter your MongoDB URI: \")\n",
    "\n",
    "client = MongoClient(MONGO_URI)\n",
    "db = client['malware_analysis']\n",
    "collection = db['dataset1']\n",
    "\n",
    "# Fetch documents with embeddings and labels\n",
    "cursor = collection.find({\n",
    "    'graph_embedding': {'$exists': True},\n",
    "    'malware_type': {'$exists': True}\n",
    "})\n",
    "\n",
    "embeddings = []\n",
    "labels = []\n",
    "\n",
    "for doc in cursor:\n",
    "    embeddings.append(doc['graph_embedding'])\n",
    "    malware_type_field = doc.get('malware_type', '')\n",
    "    if malware_type_field:\n",
    "        if isinstance(malware_type_field, str):\n",
    "            malware_types = [label.strip() for label in malware_type_field.split(',')]\n",
    "        elif isinstance(malware_type_field, list):\n",
    "            malware_types = [label.strip() for label in malware_type_field]\n",
    "        else:\n",
    "            malware_types = []\n",
    "    else:\n",
    "        malware_types = []\n",
    "    labels.append(malware_types)\n",
    "\n",
    "embeddings = np.array(embeddings)\n",
    "print(f\"Total samples loaded: {len(embeddings)}\")\n",
    "\n",
    "# Verify the labels\n",
    "print(\"First few labels after processing:\")\n",
    "for l in labels[:10]:\n",
    "    print(l, type(l))\n"
   ]
  },
  {
   "cell_type": "code",
   "execution_count": 3,
   "metadata": {},
   "outputs": [
    {
     "name": "stdout",
     "output_type": "stream",
     "text": [
      "(327, 128)\n",
      "327\n",
      "['Trojan']\n"
     ]
    }
   ],
   "source": [
    "print(embeddings.shape)\n",
    "# print(labels.shape)\n",
    "print(len(labels))\n",
    "print(labels[1])"
   ]
  },
  {
   "cell_type": "code",
   "execution_count": 4,
   "metadata": {},
   "outputs": [
    {
     "name": "stdout",
     "output_type": "stream",
     "text": [
      "[[ 1.02958167  0.08374477 -0.76886296 ... -0.24042591  0.06679002\n",
      "   0.31208497]\n",
      " [ 0.18049081 -0.11231075 -1.16224456 ... -0.24667189  0.80205286\n",
      "   0.69475812]\n",
      " [ 0.87774885 -0.13316268 -0.5334838  ...  0.02148508 -0.46653187\n",
      "  -0.18944445]\n",
      " ...\n",
      " [ 0.65718579  1.00533879 -0.13156533 ... -0.14751893  0.48862186\n",
      "   0.16018519]\n",
      " [ 1.20110464  0.09410287 -0.41092643 ... -0.72847563  0.46086186\n",
      "  -0.34656161]\n",
      " [ 0.74030542  0.13440715 -0.51151431 ... -0.35390499 -0.57465577\n",
      "   0.88250464]]\n"
     ]
    }
   ],
   "source": [
    "print(embeddings)"
   ]
  },
  {
   "cell_type": "code",
   "execution_count": 5,
   "metadata": {},
   "outputs": [
    {
     "name": "stdout",
     "output_type": "stream",
     "text": [
      "[[ 1.02958167  0.08374477 -0.76886296 ... -0.24042591  0.06679002\n",
      "   0.31208497]\n",
      " [ 0.18049081 -0.11231075 -1.16224456 ... -0.24667189  0.80205286\n",
      "   0.69475812]\n",
      " [ 0.87774885 -0.13316268 -0.5334838  ...  0.02148508 -0.46653187\n",
      "  -0.18944445]\n",
      " ...\n",
      " [ 0.65718579  1.00533879 -0.13156533 ... -0.14751893  0.48862186\n",
      "   0.16018519]\n",
      " [ 1.20110464  0.09410287 -0.41092643 ... -0.72847563  0.46086186\n",
      "  -0.34656161]\n",
      " [ 0.74030542  0.13440715 -0.51151431 ... -0.35390499 -0.57465577\n",
      "   0.88250464]]\n",
      "['Cryptocurrency Miner' 'Trojan' 'Trojan' 'Cryptocurrency Miner' 'Trojan'\n",
      " 'Trojan' 'Trojan' 'Adware' 'Trojan' 'Backdoor' 'Trojan' 'Trojan'\n",
      " 'Dropper' 'Worm' 'Trojan' 'Adware' 'Dropper' 'Unknown' 'Trojan' 'Trojan'\n",
      " 'Trojan' 'Dropper' 'Worm' 'Trojan' 'Trojan' 'Trojan'\n",
      " 'Cryptocurrency Miner' 'Unknown' 'Trojan' 'Cryptocurrency Miner' 'Trojan'\n",
      " 'Trojan' 'Ransomware' 'Trojan' 'Phishing' 'Trojan' 'Ransomware'\n",
      " 'Cryptocurrency Miner' 'Trojan' 'Trojan' 'Trojan' 'Dropper' 'Worm'\n",
      " 'Trojan' 'Dropper' 'Worm' 'Trojan' 'Ransomware' 'Cryptocurrency Miner'\n",
      " 'Unknown' 'Trojan' 'Phishing' 'Unknown' 'Unknown' 'Cryptocurrency Miner'\n",
      " 'Trojan' 'Worm' 'Trojan' 'Trojan' 'Unknown' 'Trojan' 'Trojan' 'Trojan'\n",
      " 'Trojan' 'Unknown' 'Trojan' 'Unknown' 'Trojan' 'Trojan' 'Trojan'\n",
      " 'Unknown' 'Trojan' 'Trojan' 'Unknown' 'Trojan' 'Unknown' 'Trojan'\n",
      " 'Trojan' 'Cryptocurrency Miner' 'Trojan' 'Trojan' 'Trojan'\n",
      " 'Cryptocurrency Miner' 'Cryptocurrency Miner' 'Trojan' 'Trojan'\n",
      " 'Backdoor' 'Unknown' 'Trojan' 'Trojan' 'Unknown' 'Trojan' 'Ransomware'\n",
      " 'Trojan' 'Trojan' 'Unknown' 'Trojan' 'Trojan' 'Trojan' 'Trojan' 'Trojan'\n",
      " 'Cryptocurrency Miner' 'Trojan' 'Cryptocurrency Miner' 'Trojan' 'Trojan'\n",
      " 'Trojan' 'Unknown' 'Trojan' 'Trojan' 'Cryptocurrency Miner' 'Unknown'\n",
      " 'Unknown' 'Trojan' 'Dropper' 'Worm' 'Trojan' 'Trojan' 'Trojan' 'Trojan'\n",
      " 'Trojan' 'Ransomware' 'Trojan' 'Adware' 'Trojan' 'Ransomware' 'Unknown'\n",
      " 'Trojan' 'Trojan' 'Trojan' 'Dropper' 'Worm' 'Unknown' 'Trojan' 'Trojan'\n",
      " 'Trojan' 'Trojan' 'Unknown' 'Trojan' 'Trojan' 'Trojan' 'Unknown' 'Trojan'\n",
      " 'Dropper' 'Worm' 'Trojan' 'Cryptocurrency Miner' 'Unknown' 'Trojan'\n",
      " 'Trojan' 'Dropper' 'Worm' 'Cryptocurrency Miner' 'Trojan' 'Trojan'\n",
      " 'Trojan' 'Unknown' 'Trojan' 'Trojan' 'Ransomware' 'Trojan' 'Trojan'\n",
      " 'Trojan' 'Trojan' 'Unknown' 'Trojan' 'Trojan' 'Trojan' 'Dropper' 'Worm'\n",
      " 'Trojan' 'Trojan' 'Trojan' 'Trojan' 'Trojan' 'Trojan' 'Trojan' 'Trojan'\n",
      " 'Trojan' 'Trojan' 'Ransomware' 'Cryptocurrency Miner' 'Trojan' 'Trojan'\n",
      " 'Trojan' 'Trojan' 'Trojan' 'Trojan' 'Unknown' 'Trojan' 'Trojan' 'Trojan'\n",
      " 'Ransomware' 'Trojan' 'Unknown' 'Trojan' 'Trojan' 'Trojan' 'Trojan'\n",
      " 'Cryptocurrency Miner' 'Trojan' 'Dropper' 'Worm' 'Unknown' 'Unknown'\n",
      " 'Cryptocurrency Miner' 'Unknown' 'Trojan' 'Trojan' 'Trojan' 'Trojan'\n",
      " 'Trojan' 'Trojan' 'Trojan' 'Unknown' 'Unknown' 'Unknown' 'Trojan'\n",
      " 'Dropper' 'Worm' 'Trojan' 'Unknown' 'Trojan' 'Cryptocurrency Miner'\n",
      " 'Unknown' 'Trojan' 'Dropper' 'Worm' 'Unknown' 'Trojan' 'Trojan'\n",
      " 'Cryptocurrency Miner' 'Unknown' 'Trojan' 'Trojan' 'Adware'\n",
      " 'Cryptocurrency Miner' 'Trojan' 'Dropper' 'Worm' 'Trojan'\n",
      " 'Cryptocurrency Miner' 'Trojan' 'Unknown' 'Trojan' 'Trojan' 'Trojan'\n",
      " 'Unknown' 'Unknown' 'Trojan' 'Trojan' 'Trojan' 'Cryptocurrency Miner'\n",
      " 'Trojan' 'Dropper' 'Worm' 'Trojan' 'Phishing' 'Trojan' 'Trojan' 'Trojan'\n",
      " 'Trojan' 'Trojan' 'Trojan' 'Trojan' 'Trojan' 'Cryptocurrency Miner'\n",
      " 'Trojan' 'Phishing' 'Trojan' 'Trojan' 'Unknown' 'Unknown' 'Trojan' 'Worm'\n",
      " 'Trojan' 'Trojan' 'Dropper' 'Worm' 'Trojan' 'Dropper' 'Worm'\n",
      " 'Cryptocurrency Miner' 'Trojan' 'Trojan' 'Trojan' 'Trojan' 'Trojan'\n",
      " 'Trojan' 'Adware' 'Ransomware' 'Cryptocurrency Miner' 'Trojan' 'Trojan'\n",
      " 'Dropper' 'Worm' 'Trojan' 'Trojan' 'Trojan' 'Unknown' 'Trojan' 'Trojan'\n",
      " 'Trojan' 'Cryptocurrency Miner' 'Trojan' 'Cryptocurrency Miner' 'Trojan'\n",
      " 'Trojan' 'Adware' 'Dropper' 'Trojan' 'Cryptocurrency Miner' 'Trojan'\n",
      " 'Unknown' 'Trojan' 'Trojan' 'Ransomware' 'Trojan' 'Benign'\n",
      " 'Cryptocurrency Miner' 'Trojan' 'Worm' 'Trojan' 'Cryptocurrency Miner'\n",
      " 'Unknown' 'Trojan' 'Dropper' 'Worm' 'Trojan' 'Trojan' 'Unknown' 'Trojan'\n",
      " 'Trojan' 'Unknown' 'Trojan' 'Trojan' 'Trojan' 'Cryptocurrency Miner'\n",
      " 'Unknown' 'Trojan' 'Trojan' 'Dropper' 'Worm' 'Trojan' 'Dropper' 'Worm'\n",
      " 'Unknown' 'Trojan' 'Trojan' 'Trojan' 'Cryptocurrency Miner' 'Unknown'\n",
      " 'Trojan' 'Trojan' 'Trojan' 'Trojan' 'Trojan' 'Dropper' 'Worm' 'Trojan'\n",
      " 'Trojan' 'Trojan' 'Trojan' 'Trojan' 'Adware' 'Unknown' 'Trojan'\n",
      " 'Cryptocurrency Miner' 'Cryptocurrency Miner' 'Trojan' 'Unknown' 'Trojan'\n",
      " 'Unknown' 'Trojan' 'Unknown' 'Trojan' 'Trojan' 'Unknown' 'Trojan'\n",
      " 'Unknown' 'Trojan' 'Unknown' 'Trojan' 'Trojan' 'Trojan' 'Adware'\n",
      " 'Dropper' 'Trojan' 'Adware' 'Dropper' 'Unknown' 'Unknown' 'Unknown'\n",
      " 'Trojan' 'Trojan' 'Trojan' 'Trojan' 'Cryptocurrency Miner' 'Trojan'\n",
      " 'Trojan' 'Unknown' 'Trojan' 'Trojan' 'Trojan']\n"
     ]
    }
   ],
   "source": [
    "new_embeddings = []\n",
    "new_labels = []\n",
    "\n",
    "for emb, lbl_list in zip(embeddings, labels):\n",
    "    for lbl in lbl_list:\n",
    "        new_embeddings.append(emb)\n",
    "        new_labels.append(lbl)\n",
    "\n",
    "# Convert the list of embeddings back to a NumPy array\n",
    "new_embeddings = np.array(new_embeddings)\n",
    "new_labels=np.array(new_labels)\n",
    "print(new_embeddings)\n",
    "print(new_labels)\n"
   ]
  },
  {
   "cell_type": "code",
   "execution_count": 6,
   "metadata": {},
   "outputs": [
    {
     "name": "stdout",
     "output_type": "stream",
     "text": [
      "   embedding_1  embedding_2  embedding_3  embedding_4  embedding_5  \\\n",
      "0     1.029582     0.083745    -0.768863    -0.601737    -0.018552   \n",
      "1     0.180491    -0.112311    -1.162245    -0.379042    -0.182409   \n",
      "2     0.877749    -0.133163    -0.533484    -0.071782     0.247684   \n",
      "3     0.905636    -0.208120    -0.192289    -0.290757    -0.393283   \n",
      "4     1.212977    -0.007017    -0.812970    -0.364216    -0.810991   \n",
      "\n",
      "   embedding_6  embedding_7  embedding_8  embedding_9  embedding_10  ...  \\\n",
      "0     0.122026     0.711602    -0.308844     0.562217     -0.516533  ...   \n",
      "1     0.374964     0.303225    -0.439953    -0.230539     -0.893200  ...   \n",
      "2    -0.369050     0.087727    -0.638314    -0.449704     -0.745737  ...   \n",
      "3    -0.258404     0.219378    -0.421130    -0.481209     -0.246315  ...   \n",
      "4    -0.104662     0.606605    -0.025108    -0.133793      0.130473  ...   \n",
      "\n",
      "   embedding_120  embedding_121  embedding_122  embedding_123  embedding_124  \\\n",
      "0      -0.432067       0.360033      -0.259168      -0.607421      -0.345644   \n",
      "1       0.141922       0.019224      -0.378483      -0.508913       0.309380   \n",
      "2      -0.309005      -0.681616       0.031479      -0.591232       0.981711   \n",
      "3      -0.384598      -0.235120       0.068197      -0.256977       0.186655   \n",
      "4      -0.538430      -0.818046      -0.554857      -0.790179      -0.110325   \n",
      "\n",
      "   embedding_125  embedding_126  embedding_127  embedding_128  \\\n",
      "0      -0.486774      -0.240426       0.066790       0.312085   \n",
      "1       0.234445      -0.246672       0.802053       0.694758   \n",
      "2       0.634408       0.021485      -0.466532      -0.189444   \n",
      "3       0.117060       0.305376      -0.380937       0.052416   \n",
      "4       0.035838       0.517621      -0.733051      -0.206903   \n",
      "\n",
      "                  label  \n",
      "0  Cryptocurrency Miner  \n",
      "1                Trojan  \n",
      "2                Trojan  \n",
      "3  Cryptocurrency Miner  \n",
      "4                Trojan  \n",
      "\n",
      "[5 rows x 129 columns]\n",
      "Data successfully saved to 'graph_embeddings_labels.csv'\n"
     ]
    }
   ],
   "source": [
    "import pandas as pd\n",
    "import numpy as np\n",
    "# Determine the number of dimensions in your embeddings\n",
    "embedding_dim = new_embeddings.shape[1]\n",
    "\n",
    "# Generate column names for each embedding dimension\n",
    "embedding_columns = [f'embedding_{i}' for i in range(1, embedding_dim + 1)]\n",
    "\n",
    "# Create a DataFrame for embeddings\n",
    "df_embeddings = pd.DataFrame(new_embeddings, columns=embedding_columns)\n",
    "\n",
    "# Add the labels as a new column\n",
    "df_embeddings['label'] = new_labels\n",
    "\n",
    "# Display the first few rows of the DataFrame\n",
    "print(df_embeddings.head())\n",
    "\n",
    "\n",
    "# Specify the filename\n",
    "csv_filename = 'graph_embeddings_labels.csv'\n",
    "\n",
    "# Save the DataFrame to a CSV file without the index\n",
    "df_embeddings.to_csv(csv_filename, index=False)\n",
    "\n",
    "print(f\"Data successfully saved to '{csv_filename}'\")\n",
    "\n"
   ]
  },
  {
   "cell_type": "code",
   "execution_count": 7,
   "metadata": {},
   "outputs": [
    {
     "name": "stdout",
     "output_type": "stream",
     "text": [
      "(404,)\n",
      "(404, 128)\n"
     ]
    }
   ],
   "source": [
    "print(new_labels.shape)\n",
    "print(new_embeddings.shape)"
   ]
  },
  {
   "cell_type": "code",
   "execution_count": 8,
   "metadata": {},
   "outputs": [
    {
     "name": "stdout",
     "output_type": "stream",
     "text": [
      "Requirement already satisfied: tensorflow in /home/ndv/.local/lib/python3.8/site-packages (2.13.1)\n",
      "Requirement already satisfied: gast<=0.4.0,>=0.2.1 in /home/ndv/.local/lib/python3.8/site-packages (from tensorflow) (0.4.0)\n",
      "Requirement already satisfied: astunparse>=1.6.0 in /home/ndv/.local/lib/python3.8/site-packages (from tensorflow) (1.6.3)\n",
      "Requirement already satisfied: absl-py>=1.0.0 in /home/ndv/.local/lib/python3.8/site-packages (from tensorflow) (2.1.0)\n",
      "Requirement already satisfied: termcolor>=1.1.0 in /home/ndv/.local/lib/python3.8/site-packages (from tensorflow) (2.4.0)\n",
      "Requirement already satisfied: tensorboard<2.14,>=2.13 in /home/ndv/.local/lib/python3.8/site-packages (from tensorflow) (2.13.0)\n",
      "Requirement already satisfied: packaging in /home/ndv/.local/lib/python3.8/site-packages (from tensorflow) (24.1)\n",
      "Requirement already satisfied: grpcio<2.0,>=1.24.3 in /home/ndv/.local/lib/python3.8/site-packages (from tensorflow) (1.67.1)\n",
      "Requirement already satisfied: keras<2.14,>=2.13.1 in /home/ndv/.local/lib/python3.8/site-packages (from tensorflow) (2.13.1)\n",
      "Requirement already satisfied: google-pasta>=0.1.1 in /home/ndv/.local/lib/python3.8/site-packages (from tensorflow) (0.2.0)\n",
      "Requirement already satisfied: wrapt>=1.11.0 in /home/ndv/.local/lib/python3.8/site-packages (from tensorflow) (1.16.0)\n",
      "Requirement already satisfied: libclang>=13.0.0 in /home/ndv/.local/lib/python3.8/site-packages (from tensorflow) (18.1.1)\n",
      "Requirement already satisfied: flatbuffers>=23.1.21 in /home/ndv/.local/lib/python3.8/site-packages (from tensorflow) (24.3.25)\n",
      "Requirement already satisfied: opt-einsum>=2.3.2 in /home/ndv/.local/lib/python3.8/site-packages (from tensorflow) (3.4.0)\n",
      "Requirement already satisfied: tensorflow-estimator<2.14,>=2.13.0 in /home/ndv/.local/lib/python3.8/site-packages (from tensorflow) (2.13.0)\n",
      "Requirement already satisfied: protobuf!=4.21.0,!=4.21.1,!=4.21.2,!=4.21.3,!=4.21.4,!=4.21.5,<5.0.0dev,>=3.20.3 in /home/ndv/.local/lib/python3.8/site-packages (from tensorflow) (4.25.5)\n",
      "Requirement already satisfied: h5py>=2.9.0 in /home/ndv/.local/lib/python3.8/site-packages (from tensorflow) (3.11.0)\n",
      "Requirement already satisfied: tensorflow-io-gcs-filesystem>=0.23.1; platform_machine != \"arm64\" or platform_system != \"Darwin\" in /home/ndv/.local/lib/python3.8/site-packages (from tensorflow) (0.34.0)\n",
      "Requirement already satisfied: setuptools in /usr/lib/python3/dist-packages (from tensorflow) (45.2.0)\n",
      "Requirement already satisfied: typing-extensions<4.6.0,>=3.6.6 in /home/ndv/.local/lib/python3.8/site-packages (from tensorflow) (4.5.0)\n",
      "Requirement already satisfied: six>=1.12.0 in /usr/lib/python3/dist-packages (from tensorflow) (1.14.0)\n",
      "Requirement already satisfied: numpy<=1.24.3,>=1.22 in /home/ndv/.local/lib/python3.8/site-packages (from tensorflow) (1.22.4)\n",
      "Requirement already satisfied: wheel<1.0,>=0.23.0 in /usr/lib/python3/dist-packages (from astunparse>=1.6.0->tensorflow) (0.34.2)\n",
      "Requirement already satisfied: markdown>=2.6.8 in /home/ndv/.local/lib/python3.8/site-packages (from tensorboard<2.14,>=2.13->tensorflow) (3.7)\n",
      "Requirement already satisfied: google-auth-oauthlib<1.1,>=0.5 in /home/ndv/.local/lib/python3.8/site-packages (from tensorboard<2.14,>=2.13->tensorflow) (1.0.0)\n",
      "Requirement already satisfied: google-auth<3,>=1.6.3 in /home/ndv/.local/lib/python3.8/site-packages (from tensorboard<2.14,>=2.13->tensorflow) (2.35.0)\n",
      "Requirement already satisfied: tensorboard-data-server<0.8.0,>=0.7.0 in /home/ndv/.local/lib/python3.8/site-packages (from tensorboard<2.14,>=2.13->tensorflow) (0.7.2)\n",
      "Requirement already satisfied: werkzeug>=1.0.1 in /home/ndv/.local/lib/python3.8/site-packages (from tensorboard<2.14,>=2.13->tensorflow) (3.0.4)\n",
      "Requirement already satisfied: requests<3,>=2.21.0 in /usr/lib/python3/dist-packages (from tensorboard<2.14,>=2.13->tensorflow) (2.22.0)\n",
      "Requirement already satisfied: importlib-metadata>=4.4; python_version < \"3.10\" in /home/ndv/.local/lib/python3.8/site-packages (from markdown>=2.6.8->tensorboard<2.14,>=2.13->tensorflow) (8.4.0)\n",
      "Requirement already satisfied: requests-oauthlib>=0.7.0 in /home/ndv/.local/lib/python3.8/site-packages (from google-auth-oauthlib<1.1,>=0.5->tensorboard<2.14,>=2.13->tensorflow) (2.0.0)\n",
      "Requirement already satisfied: pyasn1-modules>=0.2.1 in /home/ndv/.local/lib/python3.8/site-packages (from google-auth<3,>=1.6.3->tensorboard<2.14,>=2.13->tensorflow) (0.4.1)\n",
      "Requirement already satisfied: rsa<5,>=3.1.4 in /home/ndv/.local/lib/python3.8/site-packages (from google-auth<3,>=1.6.3->tensorboard<2.14,>=2.13->tensorflow) (4.9)\n",
      "Requirement already satisfied: cachetools<6.0,>=2.0.0 in /home/ndv/.local/lib/python3.8/site-packages (from google-auth<3,>=1.6.3->tensorboard<2.14,>=2.13->tensorflow) (5.5.0)\n",
      "Requirement already satisfied: MarkupSafe>=2.1.1 in /home/ndv/.local/lib/python3.8/site-packages (from werkzeug>=1.0.1->tensorboard<2.14,>=2.13->tensorflow) (2.1.5)\n",
      "Requirement already satisfied: zipp>=0.5 in /home/ndv/.local/lib/python3.8/site-packages (from importlib-metadata>=4.4; python_version < \"3.10\"->markdown>=2.6.8->tensorboard<2.14,>=2.13->tensorflow) (3.20.2)\n",
      "Requirement already satisfied: oauthlib>=3.0.0 in /usr/lib/python3/dist-packages (from requests-oauthlib>=0.7.0->google-auth-oauthlib<1.1,>=0.5->tensorboard<2.14,>=2.13->tensorflow) (3.1.0)\n",
      "Requirement already satisfied: pyasn1<0.7.0,>=0.4.6 in /home/ndv/.local/lib/python3.8/site-packages (from pyasn1-modules>=0.2.1->google-auth<3,>=1.6.3->tensorboard<2.14,>=2.13->tensorflow) (0.6.1)\n"
     ]
    }
   ],
   "source": [
    "!pip install tensorflow\n"
   ]
  },
  {
   "cell_type": "code",
   "execution_count": 9,
   "metadata": {},
   "outputs": [
    {
     "name": "stderr",
     "output_type": "stream",
     "text": [
      "2024-11-12 11:36:01.695992: I tensorflow/core/util/port.cc:110] oneDNN custom operations are on. You may see slightly different numerical results due to floating-point round-off errors from different computation orders. To turn them off, set the environment variable `TF_ENABLE_ONEDNN_OPTS=0`.\n",
      "2024-11-12 11:36:01.737252: I tensorflow/tsl/cuda/cudart_stub.cc:28] Could not find cuda drivers on your machine, GPU will not be used.\n",
      "2024-11-12 11:36:02.000699: I tensorflow/tsl/cuda/cudart_stub.cc:28] Could not find cuda drivers on your machine, GPU will not be used.\n",
      "2024-11-12 11:36:02.003104: I tensorflow/core/platform/cpu_feature_guard.cc:182] This TensorFlow binary is optimized to use available CPU instructions in performance-critical operations.\n",
      "To enable the following instructions: AVX2 AVX512F AVX512_VNNI FMA, in other operations, rebuild TensorFlow with the appropriate compiler flags.\n",
      "2024-11-12 11:36:02.866841: W tensorflow/compiler/tf2tensorrt/utils/py_utils.cc:38] TF-TRT Warning: Could not find TensorRT\n"
     ]
    },
    {
     "name": "stdout",
     "output_type": "stream",
     "text": [
      "Label Mapping: {'Adware': 0, 'Backdoor': 1, 'Benign': 2, 'Cryptocurrency Miner': 3, 'Dropper': 4, 'Phishing': 5, 'Ransomware': 6, 'Trojan': 7, 'Unknown': 8, 'Worm': 9}\n"
     ]
    }
   ],
   "source": [
    "from sklearn.preprocessing import LabelEncoder\n",
    "from tensorflow.keras.utils import to_categorical\n",
    "\n",
    "# Initialize LabelEncoder\n",
    "label_encoder = LabelEncoder()\n",
    "integer_encoded = label_encoder.fit_transform(new_labels)\n",
    "\n",
    "# Convert integer labels to one-hot encoding\n",
    "y = to_categorical(integer_encoded)\n",
    "\n",
    "# Print label mapping\n",
    "label_mapping = dict(zip(label_encoder.classes_, label_encoder.transform(label_encoder.classes_)))\n",
    "print(\"Label Mapping:\", label_mapping)\n"
   ]
  },
  {
   "cell_type": "code",
   "execution_count": 10,
   "metadata": {},
   "outputs": [
    {
     "name": "stdout",
     "output_type": "stream",
     "text": [
      "Training samples: (404, 128)\n",
      "Testing samples: (404, 10)\n",
      "[[0. 0. 0. ... 0. 0. 0.]\n",
      " [0. 0. 0. ... 1. 0. 0.]\n",
      " [0. 0. 0. ... 1. 0. 0.]\n",
      " ...\n",
      " [0. 0. 0. ... 1. 0. 0.]\n",
      " [0. 0. 0. ... 1. 0. 0.]\n",
      " [0. 0. 0. ... 1. 0. 0.]]\n"
     ]
    }
   ],
   "source": [
    "from sklearn.model_selection import train_test_split\n",
    "\n",
    "# Feature matrix\n",
    "X = new_embeddings\n",
    "\n",
    "# Labels (one-hot encoded)\n",
    "y = y\n",
    "\n",
    "# # First, split into training and testing sets (e.g., 80% train, 20% test)\n",
    "# X_train, X_test, y_train, y_test = train_test_split(\n",
    "#     X, y, \n",
    "#     test_size=0.2,        # 20% for testing\n",
    "#     random_state=42,      # For reproducibility\n",
    "#     stratify=integer_encoded  # Ensures the same label distribution in both sets\n",
    "# )\n",
    "\n",
    "print(f\"Training samples: {X.shape}\")\n",
    "print(f\"Testing samples: {y.shape}\")\n",
    "print(y)"
   ]
  },
  {
   "cell_type": "code",
   "execution_count": 11,
   "metadata": {},
   "outputs": [],
   "source": [
    "# import os\n",
    "# from pymongo import MongoClient\n",
    "# import numpy as np\n",
    "\n",
    "# # Assuming Step 1 code is already executed and you have `embeddings` and `labels`\n",
    "\n",
    "# # Initialize lists to store the processed embeddings and labels\n",
    "# processed_embeddings = []\n",
    "# processed_labels = []\n",
    "\n",
    "# for emb, lbls in zip(embeddings, labels):\n",
    "#     if lbls:\n",
    "#         for lbl in lbls:\n",
    "#             processed_embeddings.append(emb)\n",
    "#             processed_labels.append(lbl)\n",
    "#     else:\n",
    "#         # Optionally handle embeddings without labels\n",
    "#         # For example, you can skip them or assign a default label\n",
    "#         # Here, we'll skip embeddings without labels\n",
    "#         continue\n",
    "\n",
    "# # Convert the lists to NumPy arrays for efficient processing\n",
    "# processed_embeddings = np.array(processed_embeddings)\n",
    "# processed_labels = np.array(processed_labels)\n",
    "\n",
    "# print(f\"Total samples after processing: {len(processed_embeddings)}\")\n",
    "\n",
    "# # Verify the processed labels\n",
    "# print(\"First few processed labels:\")\n",
    "# for l in processed_labels[:10]:\n",
    "#     print(l)\n"
   ]
  },
  {
   "cell_type": "code",
   "execution_count": 12,
   "metadata": {},
   "outputs": [
    {
     "name": "stdout",
     "output_type": "stream",
     "text": [
      "Classes:\n",
      "['Adware' 'Backdoor' 'Benign' 'Cryptocurrency Miner' 'Dropper' 'Phishing'\n",
      " 'Ransomware' 'Trojan' 'Unknown' 'Worm']\n"
     ]
    }
   ],
   "source": [
    "from sklearn.preprocessing import MultiLabelBinarizer\n",
    "\n",
    "mlb = MultiLabelBinarizer()\n",
    "y = mlb.fit_transform(labels)\n",
    "\n",
    "print(\"Classes:\")\n",
    "print(mlb.classes_)\n"
   ]
  },
  {
   "cell_type": "code",
   "execution_count": 13,
   "metadata": {},
   "outputs": [
    {
     "name": "stdout",
     "output_type": "stream",
     "text": [
      "Training samples: 263\n",
      "Testing samples: 64\n"
     ]
    }
   ],
   "source": [
    "# Assuming you have the following variables from previous steps:\n",
    "# embeddings: NumPy array of your graph embeddings (features)\n",
    "# y: binary matrix of labels from MultiLabelBinarizer (targets)\n",
    "# mlb: the fitted MultiLabelBinarizer instance\n",
    "\n",
    "# Step 1: Split Data into Training and Testing Sets using iterative stratification\n",
    "\n",
    "from iterstrat.ml_stratifiers import MultilabelStratifiedKFold\n",
    "\n",
    "mskf = MultilabelStratifiedKFold(n_splits=5, random_state=42, shuffle=True)\n",
    "train_indices, test_indices = next(mskf.split(embeddings, y))\n",
    "\n",
    "X_train, X_test = embeddings[train_indices], embeddings[test_indices]\n",
    "y_train, y_test = y[train_indices], y[test_indices]\n",
    "\n",
    "print(f\"Training samples: {len(X_train)}\")\n",
    "print(f\"Testing samples: {len(X_test)}\")\n"
   ]
  },
  {
   "cell_type": "code",
   "execution_count": 14,
   "metadata": {},
   "outputs": [
    {
     "name": "stdout",
     "output_type": "stream",
     "text": [
      "Requirement already satisfied: scikit-multilearn in /home/ndv/.local/lib/python3.8/site-packages (0.2.0)\n"
     ]
    }
   ],
   "source": [
    "# pip install iterative-stratification\n",
    "!pip install scikit-multilearn\n",
    "\n"
   ]
  },
  {
   "cell_type": "code",
   "execution_count": 15,
   "metadata": {},
   "outputs": [],
   "source": [
    "from skmultilearn.model_selection import iterative_train_test_split\n",
    "\n",
    "X_train, y_train, X_test, y_test = iterative_train_test_split(\n",
    "    embeddings, y, test_size=0.2\n",
    ")\n"
   ]
  },
  {
   "cell_type": "code",
   "execution_count": 16,
   "metadata": {},
   "outputs": [],
   "source": [
    "# Step 2: Feature Scaling (Optional but Recommended)\n",
    "\n",
    "from sklearn.preprocessing import StandardScaler\n",
    "\n",
    "scaler = StandardScaler()\n",
    "X_train = scaler.fit_transform(X_train)\n",
    "X_test = scaler.transform(X_test)\n"
   ]
  },
  {
   "cell_type": "code",
   "execution_count": 17,
   "metadata": {},
   "outputs": [
    {
     "data": {
      "text/html": [
       "<style>#sk-container-id-1 {color: black;}#sk-container-id-1 pre{padding: 0;}#sk-container-id-1 div.sk-toggleable {background-color: white;}#sk-container-id-1 label.sk-toggleable__label {cursor: pointer;display: block;width: 100%;margin-bottom: 0;padding: 0.3em;box-sizing: border-box;text-align: center;}#sk-container-id-1 label.sk-toggleable__label-arrow:before {content: \"▸\";float: left;margin-right: 0.25em;color: #696969;}#sk-container-id-1 label.sk-toggleable__label-arrow:hover:before {color: black;}#sk-container-id-1 div.sk-estimator:hover label.sk-toggleable__label-arrow:before {color: black;}#sk-container-id-1 div.sk-toggleable__content {max-height: 0;max-width: 0;overflow: hidden;text-align: left;background-color: #f0f8ff;}#sk-container-id-1 div.sk-toggleable__content pre {margin: 0.2em;color: black;border-radius: 0.25em;background-color: #f0f8ff;}#sk-container-id-1 input.sk-toggleable__control:checked~div.sk-toggleable__content {max-height: 200px;max-width: 100%;overflow: auto;}#sk-container-id-1 input.sk-toggleable__control:checked~label.sk-toggleable__label-arrow:before {content: \"▾\";}#sk-container-id-1 div.sk-estimator input.sk-toggleable__control:checked~label.sk-toggleable__label {background-color: #d4ebff;}#sk-container-id-1 div.sk-label input.sk-toggleable__control:checked~label.sk-toggleable__label {background-color: #d4ebff;}#sk-container-id-1 input.sk-hidden--visually {border: 0;clip: rect(1px 1px 1px 1px);clip: rect(1px, 1px, 1px, 1px);height: 1px;margin: -1px;overflow: hidden;padding: 0;position: absolute;width: 1px;}#sk-container-id-1 div.sk-estimator {font-family: monospace;background-color: #f0f8ff;border: 1px dotted black;border-radius: 0.25em;box-sizing: border-box;margin-bottom: 0.5em;}#sk-container-id-1 div.sk-estimator:hover {background-color: #d4ebff;}#sk-container-id-1 div.sk-parallel-item::after {content: \"\";width: 100%;border-bottom: 1px solid gray;flex-grow: 1;}#sk-container-id-1 div.sk-label:hover label.sk-toggleable__label {background-color: #d4ebff;}#sk-container-id-1 div.sk-serial::before {content: \"\";position: absolute;border-left: 1px solid gray;box-sizing: border-box;top: 0;bottom: 0;left: 50%;z-index: 0;}#sk-container-id-1 div.sk-serial {display: flex;flex-direction: column;align-items: center;background-color: white;padding-right: 0.2em;padding-left: 0.2em;position: relative;}#sk-container-id-1 div.sk-item {position: relative;z-index: 1;}#sk-container-id-1 div.sk-parallel {display: flex;align-items: stretch;justify-content: center;background-color: white;position: relative;}#sk-container-id-1 div.sk-item::before, #sk-container-id-1 div.sk-parallel-item::before {content: \"\";position: absolute;border-left: 1px solid gray;box-sizing: border-box;top: 0;bottom: 0;left: 50%;z-index: -1;}#sk-container-id-1 div.sk-parallel-item {display: flex;flex-direction: column;z-index: 1;position: relative;background-color: white;}#sk-container-id-1 div.sk-parallel-item:first-child::after {align-self: flex-end;width: 50%;}#sk-container-id-1 div.sk-parallel-item:last-child::after {align-self: flex-start;width: 50%;}#sk-container-id-1 div.sk-parallel-item:only-child::after {width: 0;}#sk-container-id-1 div.sk-dashed-wrapped {border: 1px dashed gray;margin: 0 0.4em 0.5em 0.4em;box-sizing: border-box;padding-bottom: 0.4em;background-color: white;}#sk-container-id-1 div.sk-label label {font-family: monospace;font-weight: bold;display: inline-block;line-height: 1.2em;}#sk-container-id-1 div.sk-label-container {text-align: center;}#sk-container-id-1 div.sk-container {/* jupyter's `normalize.less` sets `[hidden] { display: none; }` but bootstrap.min.css set `[hidden] { display: none !important; }` so we also need the `!important` here to be able to override the default hidden behavior on the sphinx rendered scikit-learn.org. See: https://github.com/scikit-learn/scikit-learn/issues/21755 */display: inline-block !important;position: relative;}#sk-container-id-1 div.sk-text-repr-fallback {display: none;}</style><div id=\"sk-container-id-1\" class=\"sk-top-container\"><div class=\"sk-text-repr-fallback\"><pre>OneVsRestClassifier(estimator=RandomForestClassifier(random_state=42))</pre><b>In a Jupyter environment, please rerun this cell to show the HTML representation or trust the notebook. <br />On GitHub, the HTML representation is unable to render, please try loading this page with nbviewer.org.</b></div><div class=\"sk-container\" hidden><div class=\"sk-item sk-dashed-wrapped\"><div class=\"sk-label-container\"><div class=\"sk-label sk-toggleable\"><input class=\"sk-toggleable__control sk-hidden--visually\" id=\"sk-estimator-id-1\" type=\"checkbox\" ><label for=\"sk-estimator-id-1\" class=\"sk-toggleable__label sk-toggleable__label-arrow\">OneVsRestClassifier</label><div class=\"sk-toggleable__content\"><pre>OneVsRestClassifier(estimator=RandomForestClassifier(random_state=42))</pre></div></div></div><div class=\"sk-parallel\"><div class=\"sk-parallel-item\"><div class=\"sk-item\"><div class=\"sk-label-container\"><div class=\"sk-label sk-toggleable\"><input class=\"sk-toggleable__control sk-hidden--visually\" id=\"sk-estimator-id-2\" type=\"checkbox\" ><label for=\"sk-estimator-id-2\" class=\"sk-toggleable__label sk-toggleable__label-arrow\">estimator: RandomForestClassifier</label><div class=\"sk-toggleable__content\"><pre>RandomForestClassifier(random_state=42)</pre></div></div></div><div class=\"sk-serial\"><div class=\"sk-item\"><div class=\"sk-estimator sk-toggleable\"><input class=\"sk-toggleable__control sk-hidden--visually\" id=\"sk-estimator-id-3\" type=\"checkbox\" ><label for=\"sk-estimator-id-3\" class=\"sk-toggleable__label sk-toggleable__label-arrow\">RandomForestClassifier</label><div class=\"sk-toggleable__content\"><pre>RandomForestClassifier(random_state=42)</pre></div></div></div></div></div></div></div></div></div></div>"
      ],
      "text/plain": [
       "OneVsRestClassifier(estimator=RandomForestClassifier(random_state=42))"
      ]
     },
     "execution_count": 17,
     "metadata": {},
     "output_type": "execute_result"
    }
   ],
   "source": [
    "# Step 3: Train the Machine Learning Model for Multi-Label Classification\n",
    "\n",
    "from sklearn.multiclass import OneVsRestClassifier\n",
    "from sklearn.ensemble import RandomForestClassifier\n",
    "\n",
    "# Initialize the base classifier\n",
    "base_classifier = RandomForestClassifier(n_estimators=100, random_state=42)\n",
    "\n",
    "# Wrap it in OneVsRestClassifier for multi-label classification\n",
    "classifier = OneVsRestClassifier(base_classifier)\n",
    "\n",
    "# Train the classifier\n",
    "classifier.fit(X_train, y_train)\n"
   ]
  },
  {
   "cell_type": "code",
   "execution_count": 18,
   "metadata": {},
   "outputs": [
    {
     "name": "stdout",
     "output_type": "stream",
     "text": [
      "Classification Report:\n",
      "                      precision    recall  f1-score   support\n",
      "\n",
      "              Adware       0.00      0.00      0.00         2\n",
      "            Backdoor       0.00      0.00      0.00         0\n",
      "              Benign       0.00      0.00      0.00         0\n",
      "Cryptocurrency Miner       1.00      0.14      0.25         7\n",
      "             Dropper       0.00      0.00      0.00         5\n",
      "            Phishing       0.00      0.00      0.00         1\n",
      "          Ransomware       0.00      0.00      0.00         2\n",
      "              Trojan       0.79      0.89      0.84        46\n",
      "             Unknown       0.43      0.25      0.32        12\n",
      "                Worm       0.00      0.00      0.00         5\n",
      "\n",
      "           micro avg       0.75      0.56      0.64        80\n",
      "           macro avg       0.22      0.13      0.14        80\n",
      "        weighted avg       0.61      0.56      0.55        80\n",
      "         samples avg       0.70      0.62      0.64        80\n",
      "\n",
      "Hamming Loss: 0.0781\n",
      "Jaccard Score: 0.6094\n",
      "F1 Score (Micro): 0.6429\n",
      "F1 Score (Macro): 0.1403\n",
      "Exact Match Ratio: 0.5469\n"
     ]
    },
    {
     "name": "stderr",
     "output_type": "stream",
     "text": [
      "/home/ndv/.local/lib/python3.8/site-packages/sklearn/metrics/_classification.py:1471: UndefinedMetricWarning: Precision and F-score are ill-defined and being set to 0.0 in labels with no predicted samples. Use `zero_division` parameter to control this behavior.\n",
      "  _warn_prf(average, modifier, msg_start, len(result))\n",
      "/home/ndv/.local/lib/python3.8/site-packages/sklearn/metrics/_classification.py:1471: UndefinedMetricWarning: Recall and F-score are ill-defined and being set to 0.0 in labels with no true samples. Use `zero_division` parameter to control this behavior.\n",
      "  _warn_prf(average, modifier, msg_start, len(result))\n",
      "/home/ndv/.local/lib/python3.8/site-packages/sklearn/metrics/_classification.py:1471: UndefinedMetricWarning: Precision and F-score are ill-defined and being set to 0.0 in samples with no predicted labels. Use `zero_division` parameter to control this behavior.\n",
      "  _warn_prf(average, modifier, msg_start, len(result))\n",
      "/home/ndv/.local/lib/python3.8/site-packages/sklearn/metrics/_classification.py:1760: UndefinedMetricWarning: F-score is ill-defined and being set to 0.0 in labels with no true nor predicted samples. Use `zero_division` parameter to control this behavior.\n",
      "  _warn_prf(average, \"true nor predicted\", \"F-score is\", len(true_sum))\n"
     ]
    }
   ],
   "source": [
    "# Step 4: Evaluate the Model\n",
    "\n",
    "from sklearn.metrics import classification_report, hamming_loss, jaccard_score, f1_score, accuracy_score\n",
    "\n",
    "# Make predictions on the test set\n",
    "y_pred = classifier.predict(X_test)\n",
    "\n",
    "# Generate classification report\n",
    "print(\"Classification Report:\")\n",
    "print(classification_report(y_test, y_pred, target_names=mlb.classes_))\n",
    "\n",
    "# Calculate Hamming Loss\n",
    "hamming = hamming_loss(y_test, y_pred)\n",
    "print(f\"Hamming Loss: {hamming:.4f}\")\n",
    "\n",
    "# Calculate Jaccard Score (average over samples)\n",
    "jaccard = jaccard_score(y_test, y_pred, average='samples')\n",
    "print(f\"Jaccard Score: {jaccard:.4f}\")\n",
    "\n",
    "# F1 Score with different averaging methods\n",
    "f1_micro = f1_score(y_test, y_pred, average='micro')\n",
    "print(f\"F1 Score (Micro): {f1_micro:.4f}\")\n",
    "\n",
    "f1_macro = f1_score(y_test, y_pred, average='macro')\n",
    "print(f\"F1 Score (Macro): {f1_macro:.4f}\")\n",
    "\n",
    "# Exact Match Ratio\n",
    "exact_match = accuracy_score(y_test, y_pred)\n",
    "print(f\"Exact Match Ratio: {exact_match:.4f}\")\n"
   ]
  },
  {
   "cell_type": "code",
   "execution_count": 19,
   "metadata": {},
   "outputs": [
    {
     "name": "stdout",
     "output_type": "stream",
     "text": [
      "Model, MultiLabelBinarizer, and scaler have been saved.\n"
     ]
    }
   ],
   "source": [
    "# Step 5: Save the Model and Encoders for Future Use\n",
    "\n",
    "import joblib\n",
    "\n",
    "# Save the trained model\n",
    "joblib.dump(classifier, 'malware_multilabel_classifier.joblib')\n",
    "\n",
    "# Save the MultiLabelBinarizer\n",
    "joblib.dump(mlb, 'mlb.joblib')\n",
    "\n",
    "# Save the scaler\n",
    "joblib.dump(scaler, 'scaler.joblib')\n",
    "\n",
    "print(\"Model, MultiLabelBinarizer, and scaler have been saved.\")\n"
   ]
  },
  {
   "cell_type": "code",
   "execution_count": 20,
   "metadata": {},
   "outputs": [
    {
     "name": "stdout",
     "output_type": "stream",
     "text": [
      "Predicted Malware Types: ('Cryptocurrency Miner',)\n"
     ]
    }
   ],
   "source": [
    "# Assuming you have a new embedding to classify\n",
    "# Replace this with the actual embedding you want to classify\n",
    "new_embedding = embeddings[0]  # Using an existing embedding as an example\n",
    "\n",
    "# Preprocess the new embedding\n",
    "new_embedding_scaled = scaler.transform([new_embedding])\n",
    "\n",
    "# Predict the malware types\n",
    "prediction = classifier.predict(new_embedding_scaled)\n",
    "predicted_labels = mlb.inverse_transform(prediction)\n",
    "\n",
    "print(f\"Predicted Malware Types: {predicted_labels[0]}\")\n"
   ]
  },
  {
   "cell_type": "code",
   "execution_count": null,
   "metadata": {},
   "outputs": [],
   "source": []
  }
 ],
 "metadata": {
  "kernelspec": {
   "display_name": "Python 3",
   "language": "python",
   "name": "python3"
  },
  "language_info": {
   "codemirror_mode": {
    "name": "ipython",
    "version": 3
   },
   "file_extension": ".py",
   "mimetype": "text/x-python",
   "name": "python",
   "nbconvert_exporter": "python",
   "pygments_lexer": "ipython3",
   "version": "3.8.10"
  }
 },
 "nbformat": 4,
 "nbformat_minor": 2
}
