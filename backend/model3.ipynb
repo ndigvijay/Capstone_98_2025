{
 "cells": [
  {
   "cell_type": "code",
   "execution_count": 81,
   "metadata": {},
   "outputs": [],
   "source": [
    "import pandas as pd\n",
    "import numpy as np\n",
    "from sklearn.model_selection import train_test_split\n",
    "from sklearn.preprocessing import LabelEncoder\n",
    "from tensorflow.keras.utils import to_categorical\n",
    "from tensorflow.keras.models import Sequential\n",
    "from tensorflow.keras.layers import Dense, Input\n"
   ]
  },
  {
   "cell_type": "code",
   "execution_count": 82,
   "metadata": {},
   "outputs": [
    {
     "data": {
      "text/html": [
       "<div>\n",
       "<style scoped>\n",
       "    .dataframe tbody tr th:only-of-type {\n",
       "        vertical-align: middle;\n",
       "    }\n",
       "\n",
       "    .dataframe tbody tr th {\n",
       "        vertical-align: top;\n",
       "    }\n",
       "\n",
       "    .dataframe thead th {\n",
       "        text-align: right;\n",
       "    }\n",
       "</style>\n",
       "<table border=\"1\" class=\"dataframe\">\n",
       "  <thead>\n",
       "    <tr style=\"text-align: right;\">\n",
       "      <th></th>\n",
       "      <th>embedding_1</th>\n",
       "      <th>embedding_2</th>\n",
       "      <th>embedding_3</th>\n",
       "      <th>embedding_4</th>\n",
       "      <th>embedding_5</th>\n",
       "      <th>embedding_6</th>\n",
       "      <th>embedding_7</th>\n",
       "      <th>embedding_8</th>\n",
       "      <th>embedding_9</th>\n",
       "      <th>embedding_10</th>\n",
       "      <th>...</th>\n",
       "      <th>embedding_120</th>\n",
       "      <th>embedding_121</th>\n",
       "      <th>embedding_122</th>\n",
       "      <th>embedding_123</th>\n",
       "      <th>embedding_124</th>\n",
       "      <th>embedding_125</th>\n",
       "      <th>embedding_126</th>\n",
       "      <th>embedding_127</th>\n",
       "      <th>embedding_128</th>\n",
       "      <th>label</th>\n",
       "    </tr>\n",
       "  </thead>\n",
       "  <tbody>\n",
       "    <tr>\n",
       "      <th>0</th>\n",
       "      <td>-0.372614</td>\n",
       "      <td>-0.030603</td>\n",
       "      <td>0.495528</td>\n",
       "      <td>0.886127</td>\n",
       "      <td>0.100768</td>\n",
       "      <td>0.138769</td>\n",
       "      <td>0.893264</td>\n",
       "      <td>0.328006</td>\n",
       "      <td>-0.201871</td>\n",
       "      <td>-0.201426</td>\n",
       "      <td>...</td>\n",
       "      <td>0.033629</td>\n",
       "      <td>0.497074</td>\n",
       "      <td>-0.079357</td>\n",
       "      <td>0.291910</td>\n",
       "      <td>-0.310185</td>\n",
       "      <td>-0.134115</td>\n",
       "      <td>0.573581</td>\n",
       "      <td>-0.414679</td>\n",
       "      <td>0.610278</td>\n",
       "      <td>Trojan</td>\n",
       "    </tr>\n",
       "    <tr>\n",
       "      <th>1</th>\n",
       "      <td>-0.372614</td>\n",
       "      <td>-0.030603</td>\n",
       "      <td>0.495528</td>\n",
       "      <td>0.886127</td>\n",
       "      <td>0.100768</td>\n",
       "      <td>0.138769</td>\n",
       "      <td>0.893264</td>\n",
       "      <td>0.328006</td>\n",
       "      <td>-0.201871</td>\n",
       "      <td>-0.201426</td>\n",
       "      <td>...</td>\n",
       "      <td>0.033629</td>\n",
       "      <td>0.497074</td>\n",
       "      <td>-0.079357</td>\n",
       "      <td>0.291910</td>\n",
       "      <td>-0.310185</td>\n",
       "      <td>-0.134115</td>\n",
       "      <td>0.573581</td>\n",
       "      <td>-0.414679</td>\n",
       "      <td>0.610278</td>\n",
       "      <td>Virus</td>\n",
       "    </tr>\n",
       "    <tr>\n",
       "      <th>2</th>\n",
       "      <td>-0.561592</td>\n",
       "      <td>0.817666</td>\n",
       "      <td>-0.544812</td>\n",
       "      <td>0.767392</td>\n",
       "      <td>-0.961792</td>\n",
       "      <td>-0.085747</td>\n",
       "      <td>-0.397372</td>\n",
       "      <td>0.438733</td>\n",
       "      <td>-0.338129</td>\n",
       "      <td>0.027864</td>\n",
       "      <td>...</td>\n",
       "      <td>0.055654</td>\n",
       "      <td>0.364787</td>\n",
       "      <td>0.083622</td>\n",
       "      <td>0.703245</td>\n",
       "      <td>1.206971</td>\n",
       "      <td>-0.485569</td>\n",
       "      <td>-0.035420</td>\n",
       "      <td>-0.122132</td>\n",
       "      <td>-0.166283</td>\n",
       "      <td>Trojan</td>\n",
       "    </tr>\n",
       "    <tr>\n",
       "      <th>3</th>\n",
       "      <td>-0.561592</td>\n",
       "      <td>0.817666</td>\n",
       "      <td>-0.544812</td>\n",
       "      <td>0.767392</td>\n",
       "      <td>-0.961792</td>\n",
       "      <td>-0.085747</td>\n",
       "      <td>-0.397372</td>\n",
       "      <td>0.438733</td>\n",
       "      <td>-0.338129</td>\n",
       "      <td>0.027864</td>\n",
       "      <td>...</td>\n",
       "      <td>0.055654</td>\n",
       "      <td>0.364787</td>\n",
       "      <td>0.083622</td>\n",
       "      <td>0.703245</td>\n",
       "      <td>1.206971</td>\n",
       "      <td>-0.485569</td>\n",
       "      <td>-0.035420</td>\n",
       "      <td>-0.122132</td>\n",
       "      <td>-0.166283</td>\n",
       "      <td>Worm</td>\n",
       "    </tr>\n",
       "    <tr>\n",
       "      <th>4</th>\n",
       "      <td>-0.561592</td>\n",
       "      <td>0.817666</td>\n",
       "      <td>-0.544812</td>\n",
       "      <td>0.767392</td>\n",
       "      <td>-0.961792</td>\n",
       "      <td>-0.085747</td>\n",
       "      <td>-0.397372</td>\n",
       "      <td>0.438733</td>\n",
       "      <td>-0.338129</td>\n",
       "      <td>0.027864</td>\n",
       "      <td>...</td>\n",
       "      <td>0.055654</td>\n",
       "      <td>0.364787</td>\n",
       "      <td>0.083622</td>\n",
       "      <td>0.703245</td>\n",
       "      <td>1.206971</td>\n",
       "      <td>-0.485569</td>\n",
       "      <td>-0.035420</td>\n",
       "      <td>-0.122132</td>\n",
       "      <td>-0.166283</td>\n",
       "      <td>Virus</td>\n",
       "    </tr>\n",
       "    <tr>\n",
       "      <th>...</th>\n",
       "      <td>...</td>\n",
       "      <td>...</td>\n",
       "      <td>...</td>\n",
       "      <td>...</td>\n",
       "      <td>...</td>\n",
       "      <td>...</td>\n",
       "      <td>...</td>\n",
       "      <td>...</td>\n",
       "      <td>...</td>\n",
       "      <td>...</td>\n",
       "      <td>...</td>\n",
       "      <td>...</td>\n",
       "      <td>...</td>\n",
       "      <td>...</td>\n",
       "      <td>...</td>\n",
       "      <td>...</td>\n",
       "      <td>...</td>\n",
       "      <td>...</td>\n",
       "      <td>...</td>\n",
       "      <td>...</td>\n",
       "      <td>...</td>\n",
       "    </tr>\n",
       "    <tr>\n",
       "      <th>140</th>\n",
       "      <td>0.302601</td>\n",
       "      <td>1.070248</td>\n",
       "      <td>0.403903</td>\n",
       "      <td>0.441284</td>\n",
       "      <td>-1.112386</td>\n",
       "      <td>-0.561860</td>\n",
       "      <td>0.448673</td>\n",
       "      <td>0.439048</td>\n",
       "      <td>0.199947</td>\n",
       "      <td>0.267812</td>\n",
       "      <td>...</td>\n",
       "      <td>0.565067</td>\n",
       "      <td>0.154826</td>\n",
       "      <td>0.082342</td>\n",
       "      <td>0.112212</td>\n",
       "      <td>0.614443</td>\n",
       "      <td>0.056219</td>\n",
       "      <td>0.138101</td>\n",
       "      <td>-1.137513</td>\n",
       "      <td>0.325497</td>\n",
       "      <td>Unknown</td>\n",
       "    </tr>\n",
       "    <tr>\n",
       "      <th>141</th>\n",
       "      <td>0.385883</td>\n",
       "      <td>-0.083456</td>\n",
       "      <td>-0.246556</td>\n",
       "      <td>0.477957</td>\n",
       "      <td>-0.177268</td>\n",
       "      <td>-0.169738</td>\n",
       "      <td>0.251050</td>\n",
       "      <td>0.086222</td>\n",
       "      <td>-0.589123</td>\n",
       "      <td>-0.082718</td>\n",
       "      <td>...</td>\n",
       "      <td>-0.169563</td>\n",
       "      <td>0.086833</td>\n",
       "      <td>0.133747</td>\n",
       "      <td>-0.231593</td>\n",
       "      <td>0.207312</td>\n",
       "      <td>0.044416</td>\n",
       "      <td>-0.024671</td>\n",
       "      <td>-0.173800</td>\n",
       "      <td>0.087638</td>\n",
       "      <td>Cryptocurrency Miner</td>\n",
       "    </tr>\n",
       "    <tr>\n",
       "      <th>142</th>\n",
       "      <td>0.389573</td>\n",
       "      <td>-0.104353</td>\n",
       "      <td>-0.231249</td>\n",
       "      <td>0.456599</td>\n",
       "      <td>-0.213745</td>\n",
       "      <td>-0.185028</td>\n",
       "      <td>0.255397</td>\n",
       "      <td>0.101855</td>\n",
       "      <td>-0.610960</td>\n",
       "      <td>-0.072350</td>\n",
       "      <td>...</td>\n",
       "      <td>-0.143008</td>\n",
       "      <td>0.098296</td>\n",
       "      <td>0.143998</td>\n",
       "      <td>-0.210448</td>\n",
       "      <td>0.207603</td>\n",
       "      <td>0.077807</td>\n",
       "      <td>-0.028348</td>\n",
       "      <td>-0.176765</td>\n",
       "      <td>0.072149</td>\n",
       "      <td>Cryptocurrency Miner</td>\n",
       "    </tr>\n",
       "    <tr>\n",
       "      <th>143</th>\n",
       "      <td>0.080801</td>\n",
       "      <td>0.600072</td>\n",
       "      <td>0.725117</td>\n",
       "      <td>0.612089</td>\n",
       "      <td>-0.726759</td>\n",
       "      <td>-0.880774</td>\n",
       "      <td>0.072993</td>\n",
       "      <td>0.756354</td>\n",
       "      <td>0.391441</td>\n",
       "      <td>0.945293</td>\n",
       "      <td>...</td>\n",
       "      <td>-0.631586</td>\n",
       "      <td>0.224892</td>\n",
       "      <td>0.749998</td>\n",
       "      <td>-0.651056</td>\n",
       "      <td>1.150585</td>\n",
       "      <td>0.012683</td>\n",
       "      <td>0.789442</td>\n",
       "      <td>-0.903163</td>\n",
       "      <td>0.368252</td>\n",
       "      <td>Cryptocurrency Miner</td>\n",
       "    </tr>\n",
       "    <tr>\n",
       "      <th>144</th>\n",
       "      <td>0.035322</td>\n",
       "      <td>0.016305</td>\n",
       "      <td>-0.045464</td>\n",
       "      <td>0.135319</td>\n",
       "      <td>0.005718</td>\n",
       "      <td>-0.051600</td>\n",
       "      <td>0.080231</td>\n",
       "      <td>0.073267</td>\n",
       "      <td>-0.064614</td>\n",
       "      <td>0.060209</td>\n",
       "      <td>...</td>\n",
       "      <td>-0.025517</td>\n",
       "      <td>0.070796</td>\n",
       "      <td>0.036346</td>\n",
       "      <td>0.038791</td>\n",
       "      <td>0.158662</td>\n",
       "      <td>0.052544</td>\n",
       "      <td>0.017382</td>\n",
       "      <td>-0.082392</td>\n",
       "      <td>-0.066835</td>\n",
       "      <td>Unknown</td>\n",
       "    </tr>\n",
       "  </tbody>\n",
       "</table>\n",
       "<p>145 rows × 129 columns</p>\n",
       "</div>"
      ],
      "text/plain": [
       "     embedding_1  embedding_2  embedding_3  embedding_4  embedding_5  \\\n",
       "0      -0.372614    -0.030603     0.495528     0.886127     0.100768   \n",
       "1      -0.372614    -0.030603     0.495528     0.886127     0.100768   \n",
       "2      -0.561592     0.817666    -0.544812     0.767392    -0.961792   \n",
       "3      -0.561592     0.817666    -0.544812     0.767392    -0.961792   \n",
       "4      -0.561592     0.817666    -0.544812     0.767392    -0.961792   \n",
       "..           ...          ...          ...          ...          ...   \n",
       "140     0.302601     1.070248     0.403903     0.441284    -1.112386   \n",
       "141     0.385883    -0.083456    -0.246556     0.477957    -0.177268   \n",
       "142     0.389573    -0.104353    -0.231249     0.456599    -0.213745   \n",
       "143     0.080801     0.600072     0.725117     0.612089    -0.726759   \n",
       "144     0.035322     0.016305    -0.045464     0.135319     0.005718   \n",
       "\n",
       "     embedding_6  embedding_7  embedding_8  embedding_9  embedding_10  ...  \\\n",
       "0       0.138769     0.893264     0.328006    -0.201871     -0.201426  ...   \n",
       "1       0.138769     0.893264     0.328006    -0.201871     -0.201426  ...   \n",
       "2      -0.085747    -0.397372     0.438733    -0.338129      0.027864  ...   \n",
       "3      -0.085747    -0.397372     0.438733    -0.338129      0.027864  ...   \n",
       "4      -0.085747    -0.397372     0.438733    -0.338129      0.027864  ...   \n",
       "..           ...          ...          ...          ...           ...  ...   \n",
       "140    -0.561860     0.448673     0.439048     0.199947      0.267812  ...   \n",
       "141    -0.169738     0.251050     0.086222    -0.589123     -0.082718  ...   \n",
       "142    -0.185028     0.255397     0.101855    -0.610960     -0.072350  ...   \n",
       "143    -0.880774     0.072993     0.756354     0.391441      0.945293  ...   \n",
       "144    -0.051600     0.080231     0.073267    -0.064614      0.060209  ...   \n",
       "\n",
       "     embedding_120  embedding_121  embedding_122  embedding_123  \\\n",
       "0         0.033629       0.497074      -0.079357       0.291910   \n",
       "1         0.033629       0.497074      -0.079357       0.291910   \n",
       "2         0.055654       0.364787       0.083622       0.703245   \n",
       "3         0.055654       0.364787       0.083622       0.703245   \n",
       "4         0.055654       0.364787       0.083622       0.703245   \n",
       "..             ...            ...            ...            ...   \n",
       "140       0.565067       0.154826       0.082342       0.112212   \n",
       "141      -0.169563       0.086833       0.133747      -0.231593   \n",
       "142      -0.143008       0.098296       0.143998      -0.210448   \n",
       "143      -0.631586       0.224892       0.749998      -0.651056   \n",
       "144      -0.025517       0.070796       0.036346       0.038791   \n",
       "\n",
       "     embedding_124  embedding_125  embedding_126  embedding_127  \\\n",
       "0        -0.310185      -0.134115       0.573581      -0.414679   \n",
       "1        -0.310185      -0.134115       0.573581      -0.414679   \n",
       "2         1.206971      -0.485569      -0.035420      -0.122132   \n",
       "3         1.206971      -0.485569      -0.035420      -0.122132   \n",
       "4         1.206971      -0.485569      -0.035420      -0.122132   \n",
       "..             ...            ...            ...            ...   \n",
       "140       0.614443       0.056219       0.138101      -1.137513   \n",
       "141       0.207312       0.044416      -0.024671      -0.173800   \n",
       "142       0.207603       0.077807      -0.028348      -0.176765   \n",
       "143       1.150585       0.012683       0.789442      -0.903163   \n",
       "144       0.158662       0.052544       0.017382      -0.082392   \n",
       "\n",
       "     embedding_128                 label  \n",
       "0         0.610278                Trojan  \n",
       "1         0.610278                 Virus  \n",
       "2        -0.166283                Trojan  \n",
       "3        -0.166283                  Worm  \n",
       "4        -0.166283                 Virus  \n",
       "..             ...                   ...  \n",
       "140       0.325497               Unknown  \n",
       "141       0.087638  Cryptocurrency Miner  \n",
       "142       0.072149  Cryptocurrency Miner  \n",
       "143       0.368252  Cryptocurrency Miner  \n",
       "144      -0.066835               Unknown  \n",
       "\n",
       "[145 rows x 129 columns]"
      ]
     },
     "execution_count": 82,
     "metadata": {},
     "output_type": "execute_result"
    }
   ],
   "source": [
    "# Load the CSV file\n",
    "file_path = './graph_embeddings_labels.csv'  # Update the path if needed\n",
    "df = pd.read_csv(file_path)\n",
    "df"
   ]
  },
  {
   "cell_type": "code",
   "execution_count": 83,
   "metadata": {},
   "outputs": [
    {
     "name": "stdout",
     "output_type": "stream",
     "text": [
      "embedding_1     -0.372614\n",
      "embedding_2     -0.030603\n",
      "embedding_3      0.495528\n",
      "embedding_4      0.886127\n",
      "embedding_5      0.100768\n",
      "                   ...   \n",
      "embedding_124   -0.310185\n",
      "embedding_125   -0.134115\n",
      "embedding_126    0.573581\n",
      "embedding_127   -0.414679\n",
      "embedding_128    0.610278\n",
      "Name: 0, Length: 128, dtype: object\n"
     ]
    },
    {
     "data": {
      "text/plain": [
       "pandas.core.series.Series"
      ]
     },
     "execution_count": 83,
     "metadata": {},
     "output_type": "execute_result"
    }
   ],
   "source": [
    "first_row = df.iloc[0]\n",
    "first_row_1=first_row.drop('label')\n",
    "print(first_row_1)\n",
    "type(first_row_1)\n"
   ]
  },
  {
   "cell_type": "code",
   "execution_count": 84,
   "metadata": {},
   "outputs": [],
   "source": [
    "# ============================\n",
    "# 1. Data Preparation\n",
    "# ============================\n",
    "\n",
    "# Separate features (X) and labels (y)\n",
    "X = df.drop(columns=['label']).values\n",
    "y = df['label'].values\n",
    "\n",
    "# Encode labels into numerical format\n",
    "label_encoder = LabelEncoder()\n",
    "y_encoded = label_encoder.fit_transform(y)\n",
    "\n",
    "# Convert labels to one-hot encoding\n",
    "y_one_hot = to_categorical(y_encoded)"
   ]
  },
  {
   "cell_type": "code",
   "execution_count": null,
   "metadata": {},
   "outputs": [],
   "source": [
    "# Perform PCA with the chosen number of components and project data onto components\n",
    "pca = PCA(n_components=40)\n",
    "\n",
    "# Fit and transform the scaled training features using pca\n",
    "X= pca.fit_transform(X)\n",
    "\n",
    "# Fit and transform the scaled test features using pca\n",
    "# test_pca = pca.transform(scaled_test_features)"
   ]
  },
  {
   "cell_type": "code",
   "execution_count": 99,
   "metadata": {},
   "outputs": [],
   "source": [
    "# ============================\n",
    "# 2. Train-Test Split\n",
    "# ============================\n",
    "\n",
    "# Split data into training and testing sets\n",
    "X_train, X_test, y_train, y_test = train_test_split(\n",
    "    X, y_one_hot, \n",
    "    test_size=0.2, \n",
    "    random_state=42 \n",
    ")"
   ]
  },
  {
   "cell_type": "code",
   "execution_count": null,
   "metadata": {},
   "outputs": [],
   "source": []
  },
  {
   "cell_type": "code",
   "execution_count": 100,
   "metadata": {},
   "outputs": [
    {
     "data": {
      "text/plain": [
       "((116, 40), (29, 40), (116, 10), (29, 10))"
      ]
     },
     "execution_count": 100,
     "metadata": {},
     "output_type": "execute_result"
    }
   ],
   "source": [
    "X_train.shape,X_test.shape,y_train.shape,y_test.shape"
   ]
  },
  {
   "cell_type": "code",
   "execution_count": 101,
   "metadata": {},
   "outputs": [],
   "source": [
    "# ============================\n",
    "# 3. Build and Train the Model\n",
    "# ============================\n",
    "\n",
    "# Define the model\n",
    "model = Sequential()\n",
    "model.add(Input(shape=(X_train.shape[1],)))  # Input layer matching number of features\n",
    "model.add(Dense(64, activation='relu'))       # Hidden layer 1\n",
    "model.add(Dense(32, activation='relu'))       # Hidden layer 2\n",
    "model.add(Dense(y_train.shape[1], activation='sigmoid'))  # Output layer"
   ]
  },
  {
   "cell_type": "code",
   "execution_count": 102,
   "metadata": {},
   "outputs": [],
   "source": [
    "# Compile the model\n",
    "model.compile(optimizer='adam', \n",
    "              loss='categorical_crossentropy', \n",
    "              metrics=['accuracy'])"
   ]
  },
  {
   "cell_type": "code",
   "execution_count": 103,
   "metadata": {},
   "outputs": [
    {
     "name": "stdout",
     "output_type": "stream",
     "text": [
      "Epoch 1/20\n",
      "4/4 [==============================] - 0s 38ms/step - loss: 2.2812 - accuracy: 0.3362 - val_loss: 2.2384 - val_accuracy: 0.3448\n",
      "Epoch 2/20\n",
      "4/4 [==============================] - 0s 7ms/step - loss: 2.1790 - accuracy: 0.3879 - val_loss: 2.1711 - val_accuracy: 0.4483\n",
      "Epoch 3/20\n",
      "4/4 [==============================] - 0s 9ms/step - loss: 2.0913 - accuracy: 0.4483 - val_loss: 2.1106 - val_accuracy: 0.4483\n",
      "Epoch 4/20\n",
      "4/4 [==============================] - 0s 7ms/step - loss: 2.0112 - accuracy: 0.4741 - val_loss: 2.0519 - val_accuracy: 0.4483\n",
      "Epoch 5/20\n",
      "4/4 [==============================] - 0s 8ms/step - loss: 1.9349 - accuracy: 0.4741 - val_loss: 1.9948 - val_accuracy: 0.4483\n",
      "Epoch 6/20\n",
      "4/4 [==============================] - 0s 7ms/step - loss: 1.8571 - accuracy: 0.4914 - val_loss: 1.9404 - val_accuracy: 0.5172\n",
      "Epoch 7/20\n",
      "4/4 [==============================] - 0s 8ms/step - loss: 1.7825 - accuracy: 0.5345 - val_loss: 1.8868 - val_accuracy: 0.4828\n",
      "Epoch 8/20\n",
      "4/4 [==============================] - 0s 7ms/step - loss: 1.7057 - accuracy: 0.5776 - val_loss: 1.8342 - val_accuracy: 0.5172\n",
      "Epoch 9/20\n",
      "4/4 [==============================] - 0s 7ms/step - loss: 1.6302 - accuracy: 0.5948 - val_loss: 1.7850 - val_accuracy: 0.5172\n",
      "Epoch 10/20\n",
      "4/4 [==============================] - 0s 7ms/step - loss: 1.5567 - accuracy: 0.6034 - val_loss: 1.7417 - val_accuracy: 0.5172\n",
      "Epoch 11/20\n",
      "4/4 [==============================] - 0s 19ms/step - loss: 1.4864 - accuracy: 0.6121 - val_loss: 1.7000 - val_accuracy: 0.5172\n",
      "Epoch 12/20\n",
      "4/4 [==============================] - 0s 11ms/step - loss: 1.4174 - accuracy: 0.6121 - val_loss: 1.6633 - val_accuracy: 0.5172\n",
      "Epoch 13/20\n",
      "4/4 [==============================] - 0s 7ms/step - loss: 1.3538 - accuracy: 0.6121 - val_loss: 1.6296 - val_accuracy: 0.5172\n",
      "Epoch 14/20\n",
      "4/4 [==============================] - 0s 6ms/step - loss: 1.2932 - accuracy: 0.6293 - val_loss: 1.6000 - val_accuracy: 0.5172\n",
      "Epoch 15/20\n",
      "4/4 [==============================] - 0s 9ms/step - loss: 1.2353 - accuracy: 0.6379 - val_loss: 1.5759 - val_accuracy: 0.5172\n",
      "Epoch 16/20\n",
      "4/4 [==============================] - 0s 7ms/step - loss: 1.1846 - accuracy: 0.6466 - val_loss: 1.5561 - val_accuracy: 0.5172\n",
      "Epoch 17/20\n",
      "4/4 [==============================] - 0s 8ms/step - loss: 1.1407 - accuracy: 0.6552 - val_loss: 1.5382 - val_accuracy: 0.5172\n",
      "Epoch 18/20\n",
      "4/4 [==============================] - 0s 8ms/step - loss: 1.0964 - accuracy: 0.6552 - val_loss: 1.5258 - val_accuracy: 0.5172\n",
      "Epoch 19/20\n",
      "4/4 [==============================] - 0s 8ms/step - loss: 1.0564 - accuracy: 0.6379 - val_loss: 1.5166 - val_accuracy: 0.5172\n",
      "Epoch 20/20\n",
      "4/4 [==============================] - 0s 8ms/step - loss: 1.0225 - accuracy: 0.6552 - val_loss: 1.5114 - val_accuracy: 0.5172\n"
     ]
    }
   ],
   "source": [
    "# Train the model\n",
    "history = model.fit(\n",
    "    X_train, y_train,\n",
    "    validation_data=(X_test, y_test),\n",
    "    epochs=20,\n",
    "    batch_size=32,\n",
    "    verbose=1\n",
    ")"
   ]
  },
  {
   "cell_type": "code",
   "execution_count": 104,
   "metadata": {},
   "outputs": [
    {
     "name": "stdout",
     "output_type": "stream",
     "text": [
      "Test Loss: 1.5114\n",
      "Test Accuracy: 0.5172\n"
     ]
    }
   ],
   "source": [
    "# Evaluate the model on the testing set\n",
    "test_loss, test_accuracy = model.evaluate(X_test, y_test, verbose=0)\n",
    "\n",
    "print(f\"Test Loss: {test_loss:.4f}\")\n",
    "print(f\"Test Accuracy: {test_accuracy:.4f}\")"
   ]
  },
  {
   "cell_type": "code",
   "execution_count": 105,
   "metadata": {},
   "outputs": [
    {
     "name": "stdout",
     "output_type": "stream",
     "text": [
      "1/1 [==============================] - 0s 40ms/step\n",
      "Output values for the new inputs:\n",
      "[0.5246454  0.27671847 0.91671425 0.22464931 0.39674896 0.2155149\n",
      " 0.6051051  0.50634104 0.59266347 0.4058867 ]\n",
      "0.17\n",
      "0.26\n",
      "0.68\n",
      "0.26\n",
      "0.20\n",
      "0.21\n",
      "0.72\n",
      "0.49\n",
      "0.77\n",
      "0.69\n"
     ]
    }
   ],
   "source": [
    "output_values = model.predict(X_test)\n",
    "\n",
    "print(\"Output values for the new inputs:\")\n",
    "print(output_values[3])\n",
    "for i in output_values[10]:\n",
    "    print(f\"{i:.2f}\")"
   ]
  },
  {
   "cell_type": "code",
   "execution_count": null,
   "metadata": {},
   "outputs": [],
   "source": [
    "first_row = X.iloc[0]\n",
    "# first_row_1=first_row.drop('label')\n",
    "print(first_row_1)\n",
    "type(first_row_1)"
   ]
  },
  {
   "cell_type": "code",
   "execution_count": 112,
   "metadata": {},
   "outputs": [
    {
     "ename": "InvalidArgumentError",
     "evalue": "Graph execution error:\n\nDetected at node 'sequential_8/dense_24/Relu' defined at (most recent call last):\n    File \"/usr/lib/python3.8/runpy.py\", line 194, in _run_module_as_main\n      return _run_code(code, main_globals, None,\n    File \"/usr/lib/python3.8/runpy.py\", line 87, in _run_code\n      exec(code, run_globals)\n    File \"/home/ndv/.local/lib/python3.8/site-packages/ipykernel_launcher.py\", line 18, in <module>\n      app.launch_new_instance()\n    File \"/home/ndv/.local/lib/python3.8/site-packages/traitlets/config/application.py\", line 1075, in launch_instance\n      app.start()\n    File \"/home/ndv/.local/lib/python3.8/site-packages/ipykernel/kernelapp.py\", line 739, in start\n      self.io_loop.start()\n    File \"/home/ndv/.local/lib/python3.8/site-packages/tornado/platform/asyncio.py\", line 205, in start\n      self.asyncio_loop.run_forever()\n    File \"/usr/lib/python3.8/asyncio/base_events.py\", line 570, in run_forever\n      self._run_once()\n    File \"/usr/lib/python3.8/asyncio/base_events.py\", line 1859, in _run_once\n      handle._run()\n    File \"/usr/lib/python3.8/asyncio/events.py\", line 81, in _run\n      self._context.run(self._callback, *self._args)\n    File \"/home/ndv/.local/lib/python3.8/site-packages/ipykernel/kernelbase.py\", line 545, in dispatch_queue\n      await self.process_one()\n    File \"/home/ndv/.local/lib/python3.8/site-packages/ipykernel/kernelbase.py\", line 534, in process_one\n      await dispatch(*args)\n    File \"/home/ndv/.local/lib/python3.8/site-packages/ipykernel/kernelbase.py\", line 437, in dispatch_shell\n      await result\n    File \"/home/ndv/.local/lib/python3.8/site-packages/ipykernel/ipkernel.py\", line 362, in execute_request\n      await super().execute_request(stream, ident, parent)\n    File \"/home/ndv/.local/lib/python3.8/site-packages/ipykernel/kernelbase.py\", line 778, in execute_request\n      reply_content = await reply_content\n    File \"/home/ndv/.local/lib/python3.8/site-packages/ipykernel/ipkernel.py\", line 449, in do_execute\n      res = shell.run_cell(\n    File \"/home/ndv/.local/lib/python3.8/site-packages/ipykernel/zmqshell.py\", line 549, in run_cell\n      return super().run_cell(*args, **kwargs)\n    File \"/home/ndv/.local/lib/python3.8/site-packages/IPython/core/interactiveshell.py\", line 3009, in run_cell\n      result = self._run_cell(\n    File \"/home/ndv/.local/lib/python3.8/site-packages/IPython/core/interactiveshell.py\", line 3064, in _run_cell\n      result = runner(coro)\n    File \"/home/ndv/.local/lib/python3.8/site-packages/IPython/core/async_helpers.py\", line 129, in _pseudo_sync_runner\n      coro.send(None)\n    File \"/home/ndv/.local/lib/python3.8/site-packages/IPython/core/interactiveshell.py\", line 3269, in run_cell_async\n      has_raised = await self.run_ast_nodes(code_ast.body, cell_name,\n    File \"/home/ndv/.local/lib/python3.8/site-packages/IPython/core/interactiveshell.py\", line 3448, in run_ast_nodes\n      if await self.run_code(code, result, async_=asy):\n    File \"/home/ndv/.local/lib/python3.8/site-packages/IPython/core/interactiveshell.py\", line 3508, in run_code\n      exec(code_obj, self.user_global_ns, self.user_ns)\n    File \"/tmp/ipykernel_17205/3812811520.py\", line 5, in <module>\n      output_values = model.predict(first_row_input)\n    File \"/home/ndv/.local/lib/python3.8/site-packages/keras/src/utils/traceback_utils.py\", line 65, in error_handler\n      return fn(*args, **kwargs)\n    File \"/home/ndv/.local/lib/python3.8/site-packages/keras/src/engine/training.py\", line 2554, in predict\n      tmp_batch_outputs = self.predict_function(iterator)\n    File \"/home/ndv/.local/lib/python3.8/site-packages/keras/src/engine/training.py\", line 2341, in predict_function\n      return step_function(self, iterator)\n    File \"/home/ndv/.local/lib/python3.8/site-packages/keras/src/engine/training.py\", line 2327, in step_function\n      outputs = model.distribute_strategy.run(run_step, args=(data,))\n    File \"/home/ndv/.local/lib/python3.8/site-packages/keras/src/engine/training.py\", line 2315, in run_step\n      outputs = model.predict_step(data)\n    File \"/home/ndv/.local/lib/python3.8/site-packages/keras/src/engine/training.py\", line 2283, in predict_step\n      return self(x, training=False)\n    File \"/home/ndv/.local/lib/python3.8/site-packages/keras/src/utils/traceback_utils.py\", line 65, in error_handler\n      return fn(*args, **kwargs)\n    File \"/home/ndv/.local/lib/python3.8/site-packages/keras/src/engine/training.py\", line 569, in __call__\n      return super().__call__(*args, **kwargs)\n    File \"/home/ndv/.local/lib/python3.8/site-packages/keras/src/utils/traceback_utils.py\", line 65, in error_handler\n      return fn(*args, **kwargs)\n    File \"/home/ndv/.local/lib/python3.8/site-packages/keras/src/engine/base_layer.py\", line 1150, in __call__\n      outputs = call_fn(inputs, *args, **kwargs)\n    File \"/home/ndv/.local/lib/python3.8/site-packages/keras/src/utils/traceback_utils.py\", line 96, in error_handler\n      return fn(*args, **kwargs)\n    File \"/home/ndv/.local/lib/python3.8/site-packages/keras/src/engine/sequential.py\", line 405, in call\n      return super().call(inputs, training=training, mask=mask)\n    File \"/home/ndv/.local/lib/python3.8/site-packages/keras/src/engine/functional.py\", line 512, in call\n      return self._run_internal_graph(inputs, training=training, mask=mask)\n    File \"/home/ndv/.local/lib/python3.8/site-packages/keras/src/engine/functional.py\", line 669, in _run_internal_graph\n      outputs = node.layer(*args, **kwargs)\n    File \"/home/ndv/.local/lib/python3.8/site-packages/keras/src/utils/traceback_utils.py\", line 65, in error_handler\n      return fn(*args, **kwargs)\n    File \"/home/ndv/.local/lib/python3.8/site-packages/keras/src/engine/base_layer.py\", line 1150, in __call__\n      outputs = call_fn(inputs, *args, **kwargs)\n    File \"/home/ndv/.local/lib/python3.8/site-packages/keras/src/utils/traceback_utils.py\", line 96, in error_handler\n      return fn(*args, **kwargs)\n    File \"/home/ndv/.local/lib/python3.8/site-packages/keras/src/layers/core/dense.py\", line 255, in call\n      outputs = self.activation(outputs)\n    File \"/home/ndv/.local/lib/python3.8/site-packages/keras/src/activations.py\", line 321, in relu\n      return backend.relu(\n    File \"/home/ndv/.local/lib/python3.8/site-packages/keras/src/backend.py\", line 5397, in relu\n      x = tf.nn.relu(x)\nNode: 'sequential_8/dense_24/Relu'\nMatrix size-incompatible: In[0]: [1,128], In[1]: [40,64]\n\t [[{{node sequential_8/dense_24/Relu}}]] [Op:__inference_predict_function_19412]",
     "output_type": "error",
     "traceback": [
      "\u001b[0;31m---------------------------------------------------------------------------\u001b[0m",
      "\u001b[0;31mInvalidArgumentError\u001b[0m                      Traceback (most recent call last)",
      "Cell \u001b[0;32mIn[112], line 5\u001b[0m\n\u001b[1;32m      2\u001b[0m first_row_input \u001b[38;5;241m=\u001b[39m np\u001b[38;5;241m.\u001b[39marray(first_row_1, dtype\u001b[38;5;241m=\u001b[39mnp\u001b[38;5;241m.\u001b[39mfloat32)\u001b[38;5;241m.\u001b[39mreshape(\u001b[38;5;241m1\u001b[39m, \u001b[38;5;241m-\u001b[39m\u001b[38;5;241m1\u001b[39m)\n\u001b[1;32m      4\u001b[0m \u001b[38;5;66;03m# Predict the output values for the first row\u001b[39;00m\n\u001b[0;32m----> 5\u001b[0m output_values \u001b[38;5;241m=\u001b[39m \u001b[43mmodel\u001b[49m\u001b[38;5;241;43m.\u001b[39;49m\u001b[43mpredict\u001b[49m\u001b[43m(\u001b[49m\u001b[43mfirst_row_input\u001b[49m\u001b[43m)\u001b[49m\n\u001b[1;32m      7\u001b[0m \u001b[38;5;66;03m# Print the output values for the new input\u001b[39;00m\n\u001b[1;32m      8\u001b[0m \u001b[38;5;28mprint\u001b[39m(\u001b[38;5;124m\"\u001b[39m\u001b[38;5;124mOutput values for the new input:\u001b[39m\u001b[38;5;124m\"\u001b[39m)\n",
      "File \u001b[0;32m~/.local/lib/python3.8/site-packages/keras/src/utils/traceback_utils.py:70\u001b[0m, in \u001b[0;36mfilter_traceback.<locals>.error_handler\u001b[0;34m(*args, **kwargs)\u001b[0m\n\u001b[1;32m     67\u001b[0m     filtered_tb \u001b[38;5;241m=\u001b[39m _process_traceback_frames(e\u001b[38;5;241m.\u001b[39m__traceback__)\n\u001b[1;32m     68\u001b[0m     \u001b[38;5;66;03m# To get the full stack trace, call:\u001b[39;00m\n\u001b[1;32m     69\u001b[0m     \u001b[38;5;66;03m# `tf.debugging.disable_traceback_filtering()`\u001b[39;00m\n\u001b[0;32m---> 70\u001b[0m     \u001b[38;5;28;01mraise\u001b[39;00m e\u001b[38;5;241m.\u001b[39mwith_traceback(filtered_tb) \u001b[38;5;28;01mfrom\u001b[39;00m \u001b[38;5;28;01mNone\u001b[39;00m\n\u001b[1;32m     71\u001b[0m \u001b[38;5;28;01mfinally\u001b[39;00m:\n\u001b[1;32m     72\u001b[0m     \u001b[38;5;28;01mdel\u001b[39;00m filtered_tb\n",
      "File \u001b[0;32m~/.local/lib/python3.8/site-packages/tensorflow/python/eager/execute.py:53\u001b[0m, in \u001b[0;36mquick_execute\u001b[0;34m(op_name, num_outputs, inputs, attrs, ctx, name)\u001b[0m\n\u001b[1;32m     51\u001b[0m \u001b[38;5;28;01mtry\u001b[39;00m:\n\u001b[1;32m     52\u001b[0m   ctx\u001b[38;5;241m.\u001b[39mensure_initialized()\n\u001b[0;32m---> 53\u001b[0m   tensors \u001b[38;5;241m=\u001b[39m pywrap_tfe\u001b[38;5;241m.\u001b[39mTFE_Py_Execute(ctx\u001b[38;5;241m.\u001b[39m_handle, device_name, op_name,\n\u001b[1;32m     54\u001b[0m                                       inputs, attrs, num_outputs)\n\u001b[1;32m     55\u001b[0m \u001b[38;5;28;01mexcept\u001b[39;00m core\u001b[38;5;241m.\u001b[39m_NotOkStatusException \u001b[38;5;28;01mas\u001b[39;00m e:\n\u001b[1;32m     56\u001b[0m   \u001b[38;5;28;01mif\u001b[39;00m name \u001b[38;5;129;01mis\u001b[39;00m \u001b[38;5;129;01mnot\u001b[39;00m \u001b[38;5;28;01mNone\u001b[39;00m:\n",
      "\u001b[0;31mInvalidArgumentError\u001b[0m: Graph execution error:\n\nDetected at node 'sequential_8/dense_24/Relu' defined at (most recent call last):\n    File \"/usr/lib/python3.8/runpy.py\", line 194, in _run_module_as_main\n      return _run_code(code, main_globals, None,\n    File \"/usr/lib/python3.8/runpy.py\", line 87, in _run_code\n      exec(code, run_globals)\n    File \"/home/ndv/.local/lib/python3.8/site-packages/ipykernel_launcher.py\", line 18, in <module>\n      app.launch_new_instance()\n    File \"/home/ndv/.local/lib/python3.8/site-packages/traitlets/config/application.py\", line 1075, in launch_instance\n      app.start()\n    File \"/home/ndv/.local/lib/python3.8/site-packages/ipykernel/kernelapp.py\", line 739, in start\n      self.io_loop.start()\n    File \"/home/ndv/.local/lib/python3.8/site-packages/tornado/platform/asyncio.py\", line 205, in start\n      self.asyncio_loop.run_forever()\n    File \"/usr/lib/python3.8/asyncio/base_events.py\", line 570, in run_forever\n      self._run_once()\n    File \"/usr/lib/python3.8/asyncio/base_events.py\", line 1859, in _run_once\n      handle._run()\n    File \"/usr/lib/python3.8/asyncio/events.py\", line 81, in _run\n      self._context.run(self._callback, *self._args)\n    File \"/home/ndv/.local/lib/python3.8/site-packages/ipykernel/kernelbase.py\", line 545, in dispatch_queue\n      await self.process_one()\n    File \"/home/ndv/.local/lib/python3.8/site-packages/ipykernel/kernelbase.py\", line 534, in process_one\n      await dispatch(*args)\n    File \"/home/ndv/.local/lib/python3.8/site-packages/ipykernel/kernelbase.py\", line 437, in dispatch_shell\n      await result\n    File \"/home/ndv/.local/lib/python3.8/site-packages/ipykernel/ipkernel.py\", line 362, in execute_request\n      await super().execute_request(stream, ident, parent)\n    File \"/home/ndv/.local/lib/python3.8/site-packages/ipykernel/kernelbase.py\", line 778, in execute_request\n      reply_content = await reply_content\n    File \"/home/ndv/.local/lib/python3.8/site-packages/ipykernel/ipkernel.py\", line 449, in do_execute\n      res = shell.run_cell(\n    File \"/home/ndv/.local/lib/python3.8/site-packages/ipykernel/zmqshell.py\", line 549, in run_cell\n      return super().run_cell(*args, **kwargs)\n    File \"/home/ndv/.local/lib/python3.8/site-packages/IPython/core/interactiveshell.py\", line 3009, in run_cell\n      result = self._run_cell(\n    File \"/home/ndv/.local/lib/python3.8/site-packages/IPython/core/interactiveshell.py\", line 3064, in _run_cell\n      result = runner(coro)\n    File \"/home/ndv/.local/lib/python3.8/site-packages/IPython/core/async_helpers.py\", line 129, in _pseudo_sync_runner\n      coro.send(None)\n    File \"/home/ndv/.local/lib/python3.8/site-packages/IPython/core/interactiveshell.py\", line 3269, in run_cell_async\n      has_raised = await self.run_ast_nodes(code_ast.body, cell_name,\n    File \"/home/ndv/.local/lib/python3.8/site-packages/IPython/core/interactiveshell.py\", line 3448, in run_ast_nodes\n      if await self.run_code(code, result, async_=asy):\n    File \"/home/ndv/.local/lib/python3.8/site-packages/IPython/core/interactiveshell.py\", line 3508, in run_code\n      exec(code_obj, self.user_global_ns, self.user_ns)\n    File \"/tmp/ipykernel_17205/3812811520.py\", line 5, in <module>\n      output_values = model.predict(first_row_input)\n    File \"/home/ndv/.local/lib/python3.8/site-packages/keras/src/utils/traceback_utils.py\", line 65, in error_handler\n      return fn(*args, **kwargs)\n    File \"/home/ndv/.local/lib/python3.8/site-packages/keras/src/engine/training.py\", line 2554, in predict\n      tmp_batch_outputs = self.predict_function(iterator)\n    File \"/home/ndv/.local/lib/python3.8/site-packages/keras/src/engine/training.py\", line 2341, in predict_function\n      return step_function(self, iterator)\n    File \"/home/ndv/.local/lib/python3.8/site-packages/keras/src/engine/training.py\", line 2327, in step_function\n      outputs = model.distribute_strategy.run(run_step, args=(data,))\n    File \"/home/ndv/.local/lib/python3.8/site-packages/keras/src/engine/training.py\", line 2315, in run_step\n      outputs = model.predict_step(data)\n    File \"/home/ndv/.local/lib/python3.8/site-packages/keras/src/engine/training.py\", line 2283, in predict_step\n      return self(x, training=False)\n    File \"/home/ndv/.local/lib/python3.8/site-packages/keras/src/utils/traceback_utils.py\", line 65, in error_handler\n      return fn(*args, **kwargs)\n    File \"/home/ndv/.local/lib/python3.8/site-packages/keras/src/engine/training.py\", line 569, in __call__\n      return super().__call__(*args, **kwargs)\n    File \"/home/ndv/.local/lib/python3.8/site-packages/keras/src/utils/traceback_utils.py\", line 65, in error_handler\n      return fn(*args, **kwargs)\n    File \"/home/ndv/.local/lib/python3.8/site-packages/keras/src/engine/base_layer.py\", line 1150, in __call__\n      outputs = call_fn(inputs, *args, **kwargs)\n    File \"/home/ndv/.local/lib/python3.8/site-packages/keras/src/utils/traceback_utils.py\", line 96, in error_handler\n      return fn(*args, **kwargs)\n    File \"/home/ndv/.local/lib/python3.8/site-packages/keras/src/engine/sequential.py\", line 405, in call\n      return super().call(inputs, training=training, mask=mask)\n    File \"/home/ndv/.local/lib/python3.8/site-packages/keras/src/engine/functional.py\", line 512, in call\n      return self._run_internal_graph(inputs, training=training, mask=mask)\n    File \"/home/ndv/.local/lib/python3.8/site-packages/keras/src/engine/functional.py\", line 669, in _run_internal_graph\n      outputs = node.layer(*args, **kwargs)\n    File \"/home/ndv/.local/lib/python3.8/site-packages/keras/src/utils/traceback_utils.py\", line 65, in error_handler\n      return fn(*args, **kwargs)\n    File \"/home/ndv/.local/lib/python3.8/site-packages/keras/src/engine/base_layer.py\", line 1150, in __call__\n      outputs = call_fn(inputs, *args, **kwargs)\n    File \"/home/ndv/.local/lib/python3.8/site-packages/keras/src/utils/traceback_utils.py\", line 96, in error_handler\n      return fn(*args, **kwargs)\n    File \"/home/ndv/.local/lib/python3.8/site-packages/keras/src/layers/core/dense.py\", line 255, in call\n      outputs = self.activation(outputs)\n    File \"/home/ndv/.local/lib/python3.8/site-packages/keras/src/activations.py\", line 321, in relu\n      return backend.relu(\n    File \"/home/ndv/.local/lib/python3.8/site-packages/keras/src/backend.py\", line 5397, in relu\n      x = tf.nn.relu(x)\nNode: 'sequential_8/dense_24/Relu'\nMatrix size-incompatible: In[0]: [1,128], In[1]: [40,64]\n\t [[{{node sequential_8/dense_24/Relu}}]] [Op:__inference_predict_function_19412]"
     ]
    }
   ],
   "source": [
    "# Convert the first row (dropping the label) to a NumPy array and ensure the correct data type\n",
    "first_row_input = np.array(first_row_1, dtype=np.float32).reshape(1, -1)\n",
    "\n",
    "# Predict the output values for the first row\n",
    "output_values = model.predict(first_row_input)\n",
    "\n",
    "# Print the output values for the new input\n",
    "print(\"Output values for the new input:\")\n",
    "for label, probability in zip(label_encoder.classes_, output_values[0]):\n",
    "    print(f\"{label}: {probability * 100:.2f}%\")\n"
   ]
  },
  {
   "cell_type": "code",
   "execution_count": 107,
   "metadata": {},
   "outputs": [
    {
     "name": "stdout",
     "output_type": "stream",
     "text": [
      "\n",
      "Output values for test sample index 28:\n",
      "Adware: 26.63%\n",
      "Backdoor: 23.41%\n",
      "Cryptocurrency Miner: 94.61%\n",
      "Dropper: 16.15%\n",
      "Phishing: 24.69%\n",
      "Ransomware: 16.07%\n",
      "Trojan: 52.29%\n",
      "Unknown: 34.39%\n",
      "Virus: 68.59%\n",
      "Worm: 36.65%\n"
     ]
    }
   ],
   "source": [
    "# Print the percentages for another sample (e.g., sample 10)\n",
    "sample_index = 28 # Index of another sample you want to print\n",
    "predicted_probabilities = output_values[sample_index]\n",
    "\n",
    "print(f\"\\nOutput values for test sample index {sample_index}:\")\n",
    "for label, probability in zip(label_encoder.classes_, predicted_probabilities):\n",
    "    print(f\"{label}: {probability * 100:.2f}%\")"
   ]
  },
  {
   "cell_type": "code",
   "execution_count": 108,
   "metadata": {},
   "outputs": [
    {
     "data": {
      "text/plain": [
       "Text(0.5, 0, 'Principal Component #')"
      ]
     },
     "execution_count": 108,
     "metadata": {},
     "output_type": "execute_result"
    },
    {
     "data": {
      "image/png": "[encoded data removed]",
      "text/plain": [
       "<Figure size 640x480 with 1 Axes>"
      ]
     },
     "metadata": {},
     "output_type": "display_data"
    }
   ],
   "source": [
    "# This is just to make plots appear in the notebook\n",
    "# %matplotlib inline\n",
    "\n",
    "# Import our plotting module, and PCA class\n",
    "import matplotlib.pyplot as plt\n",
    "from sklearn.decomposition import PCA\n",
    "pca = PCA()\n",
    "pca.fit(X)\n",
    "exp_variance = pca.explained_variance_ratio_\n",
    "#print(exp_variance)\n",
    "# plot the explained variance using a barplot\n",
    "fig, ax = plt.subplots()\n",
    "ax.bar(range(pca.n_components_), exp_variance)\n",
    "ax.set_xlabel('Principal Component #')"
   ]
  },
  {
   "cell_type": "code",
   "execution_count": 109,
   "metadata": {},
   "outputs": [
    {
     "data": {
      "text/plain": [
       "<matplotlib.lines.Line2D at 0x7fbae021e490>"
      ]
     },
     "execution_count": 109,
     "metadata": {},
     "output_type": "execute_result"
    },
    {
     "data": {
      "image/png": "[encoded data removed]",
      "text/plain": [
       "<Figure size 640x480 with 1 Axes>"
      ]
     },
     "metadata": {},
     "output_type": "display_data"
    }
   ],
   "source": [
    "# Import numpy\n",
    "import numpy as np\n",
    "\n",
    "# Calculate the cumulative explained variance\n",
    "cum_exp_variance = np.cumsum(exp_variance)\n",
    "\n",
    "# Plot the cumulative explained variance and draw a dashed line at 0.85.\n",
    "fig, ax = plt.subplots()\n",
    "ax.plot(cum_exp_variance)\n",
    "ax.axhline(y=0.85, linestyle='--')"
   ]
  },
  {
   "cell_type": "code",
   "execution_count": 110,
   "metadata": {},
   "outputs": [],
   "source": []
  },
  {
   "cell_type": "code",
   "execution_count": 111,
   "metadata": {},
   "outputs": [
    {
     "data": {
      "text/plain": [
       "(145, 40)"
      ]
     },
     "execution_count": 111,
     "metadata": {},
     "output_type": "execute_result"
    }
   ],
   "source": [
    "X.shape"
   ]
  },
  {
   "cell_type": "code",
   "execution_count": null,
   "metadata": {},
   "outputs": [],
   "source": []
  }
 ],
 "metadata": {
  "kernelspec": {
   "display_name": "Python 3",
   "language": "python",
   "name": "python3"
  },
  "language_info": {
   "codemirror_mode": {
    "name": "ipython",
    "version": 3
   },
   "file_extension": ".py",
   "mimetype": "text/x-python",
   "name": "python",
   "nbconvert_exporter": "python",
   "pygments_lexer": "ipython3",
   "version": "3.8.10"
  }
 },
 "nbformat": 4,
 "nbformat_minor": 2
}
